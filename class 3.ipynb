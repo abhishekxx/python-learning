{
 "cells": [
  {
   "cell_type": "markdown",
   "id": "ecf7d331-dc48-4721-8eaf-93c7baf93a9b",
   "metadata": {},
   "source": [
    "# Introduction to Dictionaries\n",
    "```\n",
    "Dictionaries in Python are key-value data structures. They allow you to store and retrieve data by referencing a unique key rather than an integer index (like in lists).\n",
    "\n",
    "Keys are typically strings or numbers but can be any immutable type (string, number).\n",
    "Values can be any valid Python object (including other dictionaries, lists, or custom objects).\n"
   ]
  },
  {
   "cell_type": "code",
   "execution_count": 4,
   "id": "49123c84-09cf-453e-8a3f-3c8895e4def8",
   "metadata": {},
   "outputs": [
    {
     "name": "stdout",
     "output_type": "stream",
     "text": [
      "{'name': 'Ravi Kumar', 'age': 20, 'city': 'Birgunj'}\n"
     ]
    }
   ],
   "source": [
    "# Example 1: Using curly braces\n",
    "person = {\n",
    "    \"name\": \"Ravi Kumar\", \n",
    "    \"age\": 20,\n",
    "    \"city\": \"Birgunj\"\n",
    "}\n",
    "\n",
    "print(person)"
   ]
  },
  {
   "cell_type": "code",
   "execution_count": 2,
   "id": "90edef11-ec2d-428a-8cd7-5e171e81a022",
   "metadata": {},
   "outputs": [
    {
     "name": "stdout",
     "output_type": "stream",
     "text": [
      "{'brand': 'Nepali Congress', 'president': 'SBD', 'year': 2002}\n"
     ]
    }
   ],
   "source": [
    "# Example 2: Using the dict() constructor\n",
    "\n",
    "political_party = dict(brand=\"Nepali Congress\", president=\"SBD\", year=2002)\n",
    "\n",
    "\n",
    "print(political_party)"
   ]
  },
  {
   "cell_type": "markdown",
   "id": "242c56b4-15ac-473e-9399-64586731fbc8",
   "metadata": {},
   "source": [
    "### Accessing Values"
   ]
  },
  {
   "cell_type": "code",
   "execution_count": 39,
   "id": "6ed07d08-e851-4c86-bdeb-e0c5759098dc",
   "metadata": {},
   "outputs": [
    {
     "name": "stdout",
     "output_type": "stream",
     "text": [
      "31 Abhsdi\n"
     ]
    }
   ],
   "source": [
    "### Accessing Values\n",
    "## 1.\n",
    "\n",
    "print(person[\"age\"], person[\"name\"])  \n",
    "aaa = person[\"name\"]\n",
    "# Access value by key"
   ]
  },
  {
   "cell_type": "code",
   "execution_count": 40,
   "id": "87eefc4e-1dfa-4542-8c22-022bf64ce40e",
   "metadata": {},
   "outputs": [],
   "source": [
    "aaa = \"jdiljfl\""
   ]
  },
  {
   "cell_type": "code",
   "execution_count": 35,
   "id": "cc21fa45-7ce8-4edb-af9d-52a7f15ccf89",
   "metadata": {},
   "outputs": [
    {
     "name": "stdout",
     "output_type": "stream",
     "text": [
      "SBD\n"
     ]
    }
   ],
   "source": [
    "### Accessing Values\n",
    "## 2. \n",
    "print(political_party.get(\"president\"))        # Using .get() method"
   ]
  },
  {
   "cell_type": "markdown",
   "id": "85c5054d-10af-47ef-a0e4-1db664c1aa2c",
   "metadata": {},
   "source": [
    "### Modifying Dictionaries"
   ]
  },
  {
   "cell_type": "code",
   "execution_count": 41,
   "id": "ff21f722-2574-4d72-91cc-4bb8f1099803",
   "metadata": {},
   "outputs": [
    {
     "name": "stdout",
     "output_type": "stream",
     "text": [
      "{'name': 'jdiljfl', 'age': 31, 'occupation': 'Engineer', 'grade': 'A'}\n"
     ]
    }
   ],
   "source": [
    "#update and add new\n",
    "person[\"occupation\"] = \"Engineer\"   # Adds a new key-value pair\n",
    "person[\"age\"] = 31   \n",
    "person[\"name\"] = aaa\n",
    "print(person)\n"
   ]
  },
  {
   "cell_type": "code",
   "execution_count": 45,
   "id": "913049f4-ac4a-4536-9194-ffd07cee5f9d",
   "metadata": {},
   "outputs": [
    {
     "name": "stdout",
     "output_type": "stream",
     "text": [
      "{'age': 20}\n"
     ]
    }
   ],
   "source": [
    "# Deleting Keys\n",
    "\n",
    "del person[\"city\"]    # Deletes the key \"city\" and its value\n",
    "print(person)\n"
   ]
  },
  {
   "cell_type": "code",
   "execution_count": 43,
   "id": "39bab7c3-1982-44dd-9ade-16986b0a4880",
   "metadata": {},
   "outputs": [
    {
     "name": "stdout",
     "output_type": "stream",
     "text": [
      "{'name': 'Ravi Kumar', 'age': 20, 'city': 'Birgunj'}\n"
     ]
    }
   ],
   "source": [
    "# Deleting Keys\n",
    "# pop() method \n",
    "person.pop(\"occupation\", None)  \n",
    "print(person)"
   ]
  },
  {
   "cell_type": "code",
   "execution_count": null,
   "id": "43de2784-18ee-43fe-b25e-920421a797b8",
   "metadata": {},
   "outputs": [],
   "source": [
    "## add again\n",
    "person[\"occupation\"] = \"Engineer\"   # Adds a new key-value pair"
   ]
  },
  {
   "cell_type": "code",
   "execution_count": null,
   "id": "c946b20b-5077-424d-93f9-7138d86e616b",
   "metadata": {},
   "outputs": [],
   "source": [
    "# pop() method returns the value of the removed key\n",
    "removed = person.pop(\"occupation\", None)  \n",
    "print(\"Removed occupation:\", removed)"
   ]
  },
  {
   "cell_type": "code",
   "execution_count": null,
   "id": "0b59a5dd-886f-40df-8373-278b9ac2ff01",
   "metadata": {},
   "outputs": [],
   "source": [
    "print(person)"
   ]
  },
  {
   "cell_type": "code",
   "execution_count": null,
   "id": "c2ec89a0-21c1-4434-be71-20035a6367b4",
   "metadata": {},
   "outputs": [],
   "source": []
  },
  {
   "cell_type": "code",
   "execution_count": null,
   "id": "6481546e-063e-418d-817c-e612441e9d88",
   "metadata": {},
   "outputs": [],
   "source": []
  },
  {
   "cell_type": "markdown",
   "id": "3ab52e34-e062-4836-bfb8-c63e8bf904ba",
   "metadata": {},
   "source": [
    "### Common Dictionary Method"
   ]
  },
  {
   "cell_type": "markdown",
   "id": "72743469-c1bf-4730-9799-64aa12f1b080",
   "metadata": {},
   "source": [
    "\n",
    "\n",
    "```\n",
    "\n",
    "\n",
    "Below are some frequently used dictionary methods:\n",
    "\n",
    "keys():   Returns an iterable of all keys in the dictionary.\n",
    "values(): Returns an iterable of all values in the dictionary.\n",
    "items():  Returns an iterable of all (key, value) pairs.\n",
    "update(): Merges another dictionary or set of key-value pairs into the current dictionary.\n",
    "\n",
    "\n",
    "\n",
    "\n"
   ]
  },
  {
   "cell_type": "code",
   "execution_count": 42,
   "id": "ea429b1b-b6a6-41aa-937b-6c4054f085cf",
   "metadata": {},
   "outputs": [
    {
     "name": "stdout",
     "output_type": "stream",
     "text": [
      "Keys: dict_keys(['name', 'age', 'city'])\n"
     ]
    }
   ],
   "source": [
    "# In [5]:\n",
    "person = {\n",
    "    \"name\": \"Ravi Kumar\",\n",
    "    \"age\": 20,\n",
    "    \"city\": \"Birgunj\"\n",
    "}\n",
    "\n",
    "# keys()\n",
    "print(\"Keys:\", person.keys())\n"
   ]
  },
  {
   "cell_type": "code",
   "execution_count": 60,
   "id": "38979bb4-8c68-4e29-b574-9f4a785cf8b6",
   "metadata": {},
   "outputs": [
    {
     "name": "stdout",
     "output_type": "stream",
     "text": [
      "Values: dict_values([25, ['reading', 'biking', 'hiking']])\n"
     ]
    }
   ],
   "source": [
    "# values()\n",
    "print(\"Values:\", person.values())\n",
    "\n"
   ]
  },
  {
   "cell_type": "code",
   "execution_count": 59,
   "id": "bead723f-b90a-4309-b274-a1cdd175fcb1",
   "metadata": {},
   "outputs": [
    {
     "name": "stdout",
     "output_type": "stream",
     "text": [
      "Items: dict_items([('age', 25), ('hobbies', ['reading', 'biking', 'hiking'])])\n"
     ]
    }
   ],
   "source": [
    "# items()\n",
    "print(\"Items:\", person.items())\n",
    "\n"
   ]
  },
  {
   "cell_type": "code",
   "execution_count": 58,
   "id": "f78997ea-f421-4ed1-81d1-e090e8995920",
   "metadata": {},
   "outputs": [
    {
     "name": "stdout",
     "output_type": "stream",
     "text": [
      "After update: {'age': 25, 'hobbies': ['reading', 'biking', 'hiking']}\n"
     ]
    }
   ],
   "source": [
    "# update()\n",
    "additional_info = {\"hobbies\": [\"reading\", \"biking\", \"hiking\"], \"age\": 25}\n",
    "person.update(additional_info)\n",
    "print(\"After update:\", person)"
   ]
  },
  {
   "cell_type": "markdown",
   "id": "e43fdf35-ad8c-4f88-9f0a-7dc72f06771b",
   "metadata": {},
   "source": [
    "### Exercise\n",
    "``` \n",
    "count words in a list use \n",
    "dict and 'for loop'\n"
   ]
  },
  {
   "cell_type": "markdown",
   "id": "1a6a95d9-ed35-4cbe-a8b4-d6fbcdce2217",
   "metadata": {},
   "source": [
    "```\n",
    "\n",
    "Explanation:\n",
    "\n",
    "1: start with an empty dictionary called word_count.\n",
    "\n",
    "2: For each word in the words list, check if it’s already in word_count.\n",
    "    \n",
    "3: If it is, increment its value by 1. If not, we set it to 1.\n",
    "\n",
    "4: Finally, we print the word_count dictionary,\n",
    "\n",
    "    "
   ]
  },
  {
   "cell_type": "code",
   "execution_count": null,
   "id": "3815c36c-9368-4afd-a4f7-2d9aa2da3589",
   "metadata": {},
   "outputs": [],
   "source": [
    "## write your code here first \n",
    "## practice"
   ]
  },
  {
   "cell_type": "code",
   "execution_count": 113,
   "id": "6a06e590-8612-44d7-84f6-8c87e2f2a3b2",
   "metadata": {},
   "outputs": [
    {
     "name": "stdout",
     "output_type": "stream",
     "text": [
      "code reached w=a\n",
      "code reached w=b\n",
      "code reached w=o\n",
      "code reached w=c\n",
      "{'a': 2, 'b': 2, 'o': 2, 'c': 1}\n"
     ]
    }
   ],
   "source": [
    "\n",
    "word_count = {}\n",
    "word_list = [\"a\", \"b\", \"a\", \"o\", \"c\", \"b\", \"o\" ]\n",
    "\n",
    "\n",
    "for word in word_list:\n",
    "    if word in word_count:\n",
    "        word_count[word] += 1\n",
    "        # print(\"code reached w=\" + word)\n",
    "    else:\n",
    "        word_count[word] = 1\n",
    "        print(\"code reached w=\" + word)\n",
    "\n",
    "print(word_count)"
   ]
  },
  {
   "cell_type": "code",
   "execution_count": null,
   "id": "4129fc5e-a132-440b-bf22-4272c1c29238",
   "metadata": {},
   "outputs": [],
   "source": []
  },
  {
   "cell_type": "code",
   "execution_count": 101,
   "id": "6c186dc1-7941-44cc-91a4-f3c515e48c38",
   "metadata": {},
   "outputs": [
    {
     "name": "stdout",
     "output_type": "stream",
     "text": [
      "{'apple': 5, 'banana': 3, 'orange': 1}\n"
     ]
    }
   ],
   "source": [
    "# Example list of words\n",
    "words = [\"apple\", \"banana\", \"apple\", \"orange\", \"banana\", \"apple\"]\n",
    "\n",
    "# Initialize an empty dictionary to keep track of counts\n",
    "word_count = {}\n",
    "\n",
    "# Iterate over each word in the list\n",
    "for w in words:\n",
    "    if w in word_count:\n",
    "        # If the word already exists in the dictionary, increment its count\n",
    "        word_count[w] += 2\n",
    "    else:\n",
    "        # If the word does not exist, initialize its count to 1\n",
    "        word_count[w] = 1\n",
    "\n",
    "# Print the resulting dictionary\n",
    "print(word_count)\n"
   ]
  },
  {
   "cell_type": "code",
   "execution_count": null,
   "id": "e1f72eab-bed7-47b2-9de3-3e7f873eff3a",
   "metadata": {},
   "outputs": [],
   "source": []
  },
  {
   "cell_type": "code",
   "execution_count": null,
   "id": "06d46602-18f9-4273-8650-99ac83938889",
   "metadata": {},
   "outputs": [],
   "source": []
  },
  {
   "cell_type": "markdown",
   "id": "228ef9cc-4da0-424e-ae7a-e9dfbaf40d1a",
   "metadata": {},
   "source": [
    "# Chapter: Functions and Modules"
   ]
  },
  {
   "cell_type": "markdown",
   "id": "5f2355f2-b2e3-4fbd-8dd3-66e6d175a55d",
   "metadata": {},
   "source": [
    "```\n",
    "\n",
    "Functions are reusable blocks of code that perform a specific task. They help break down large programs into smaller, organized segments, making the code more readable and maintainable.\n",
    "\n",
    "\n",
    "Reusability:     Write once, reuse anywhere.\n",
    "Modularity:      Divide large tasks into smaller, logical chunks.\n",
    "Maintainability: Easier to troubleshoot and update code.\n"
   ]
  },
  {
   "cell_type": "markdown",
   "id": "a05abfbf-d0ad-4c74-821f-74c25753d2c0",
   "metadata": {},
   "source": [
    "### Defining and Calling Functions"
   ]
  },
  {
   "cell_type": "markdown",
   "id": "44832f8f-bf6f-4151-bedf-6c0229d79c8a",
   "metadata": {},
   "source": [
    "```\n",
    "\n",
    "In Python, functions are defined using the def keyword.\n",
    "A typical function has a name and may have parameters. When a function is called, the code inside its body executes."
   ]
  },
  {
   "cell_type": "code",
   "execution_count": 70,
   "id": "cf328518-0686-476c-b29b-5f8c0aab8e48",
   "metadata": {},
   "outputs": [],
   "source": [
    "### Example 1\n",
    "def greet():\n",
    "    print(\"Hello, world!\")\n",
    "\n"
   ]
  },
  {
   "cell_type": "code",
   "execution_count": 74,
   "id": "03317ddf-adbe-47e6-a9b5-85c1797019d4",
   "metadata": {},
   "outputs": [
    {
     "name": "stdout",
     "output_type": "stream",
     "text": [
      "Hello, world!\n"
     ]
    }
   ],
   "source": [
    "# Call the function\n",
    "greet()\n"
   ]
  },
  {
   "cell_type": "code",
   "execution_count": 75,
   "id": "8afc450f-5e96-4fa4-8515-5372207a8e45",
   "metadata": {},
   "outputs": [
    {
     "name": "stdout",
     "output_type": "stream",
     "text": [
      "Hello, world!\n"
     ]
    }
   ],
   "source": [
    "greet()"
   ]
  },
  {
   "cell_type": "code",
   "execution_count": 82,
   "id": "88ed5be7-0f80-4729-8d3f-48443bb43b6f",
   "metadata": {},
   "outputs": [],
   "source": [
    "def new_program():\n",
    "    a = 5\n",
    "    b = 5\n",
    "    sum = a + b\n",
    "    print(\"Total Sum\", sum)"
   ]
  },
  {
   "cell_type": "code",
   "execution_count": 83,
   "id": "55fe1539-d102-4b53-a989-586953d3a0cc",
   "metadata": {},
   "outputs": [
    {
     "name": "stdout",
     "output_type": "stream",
     "text": [
      "Total Sum 10\n"
     ]
    }
   ],
   "source": [
    "new_program()"
   ]
  },
  {
   "cell_type": "code",
   "execution_count": 121,
   "id": "5a53d5b1-d28a-4e99-9ede-aa3dc62f3beb",
   "metadata": {},
   "outputs": [],
   "source": [
    "### Example 2\n",
    "\n",
    "def greet_with_name(name,  city, age):     ## Here name is argument\n",
    "    # print(\"Hello \" + name +\"!\")\n",
    "    print(f\"Hello, {name, city, age}!\")\n",
    "    \n"
   ]
  },
  {
   "cell_type": "code",
   "execution_count": 122,
   "id": "78e745c4-7b22-4e5b-a259-73adfb4e9391",
   "metadata": {},
   "outputs": [
    {
     "name": "stdout",
     "output_type": "stream",
     "text": [
      "Hello, ('Abhir', 'sak', 20)!\n"
     ]
    }
   ],
   "source": [
    "# Call the function with an argument\n",
    "greet_with_name(\"Abhir\", \"sak\", 20)\n",
    "\n"
   ]
  },
  {
   "cell_type": "code",
   "execution_count": 89,
   "id": "5d3b3abc-801c-4d33-babf-0a1b439a6dba",
   "metadata": {},
   "outputs": [
    {
     "name": "stdout",
     "output_type": "stream",
     "text": [
      "Hello, Janaki!\n"
     ]
    }
   ],
   "source": [
    "\n",
    "greet_with_name(\"Janaki\")"
   ]
  },
  {
   "cell_type": "markdown",
   "id": "2827b4f0-fc65-4d98-a568-68df00310630",
   "metadata": {},
   "source": [
    "``` greet_with_name(name):     ## Here name is argument\n",
    "we can use more than one argument\n",
    "\n",
    "."
   ]
  },
  {
   "cell_type": "code",
   "execution_count": 123,
   "id": "1cbd0b99-20af-4d67-8d1f-18e3f1c98177",
   "metadata": {},
   "outputs": [],
   "source": [
    "def user_info(username, age):\n",
    "    print(f\"Username: {username}, Age: {age}\")\n",
    "\n",
    "\n"
   ]
  },
  {
   "cell_type": "code",
   "execution_count": 124,
   "id": "dece0157-9522-4467-889f-8c9af183c284",
   "metadata": {},
   "outputs": [
    {
     "name": "stdout",
     "output_type": "stream",
     "text": [
      "Username: Ramesh, Age: 30\n"
     ]
    }
   ],
   "source": [
    "user_info(\"Ramesh\", 30)"
   ]
  },
  {
   "cell_type": "code",
   "execution_count": 125,
   "id": "c8d3a7bf-9f55-4aa3-98c4-610187b71e44",
   "metadata": {},
   "outputs": [
    {
     "name": "stdout",
     "output_type": "stream",
     "text": [
      "Username: 30, Age: Nobody\n"
     ]
    }
   ],
   "source": [
    "# The order matters here ...... Think!!!\n",
    "user_info(30, \"Nobody\")"
   ]
  },
  {
   "cell_type": "markdown",
   "id": "83b6a781-2037-4dfe-899e-16416835859a",
   "metadata": {},
   "source": [
    "```\n",
    "You can call functions by naming the parameters explicitly."
   ]
  },
  {
   "cell_type": "code",
   "execution_count": 126,
   "id": "af1e6703-40c7-47d8-81a5-b9daaa58b732",
   "metadata": {},
   "outputs": [
    {
     "name": "stdout",
     "output_type": "stream",
     "text": [
      "Username: Charlie Nath, Age: 25\n"
     ]
    }
   ],
   "source": [
    "\n",
    "user_info(age=25, username=\"Charlie Nath\")\n"
   ]
  },
  {
   "cell_type": "code",
   "execution_count": 136,
   "id": "b69a50e8-dfe9-4fd7-8226-9ba01b37aabd",
   "metadata": {},
   "outputs": [],
   "source": [
    "# Does order matters here ...... Think!!! ???\n",
    "# write your code by changing order of arguments.\n",
    "def new_data(username, age, city):\n",
    "    print(f\"Username: {username}, Age: {age}, City: {city}\")"
   ]
  },
  {
   "cell_type": "code",
   "execution_count": 137,
   "id": "4b373ab0-cefa-4b01-bdbc-2c0732f23b6a",
   "metadata": {},
   "outputs": [
    {
     "name": "stdout",
     "output_type": "stream",
     "text": [
      "Username: abhi, Age: 23, City: ktm\n"
     ]
    }
   ],
   "source": [
    "new_data(\"abhi\", 23, \"ktm\")"
   ]
  },
  {
   "cell_type": "code",
   "execution_count": 134,
   "id": "f194e689-659f-45ba-8eaf-d8f8d078f12b",
   "metadata": {},
   "outputs": [
    {
     "ename": "NameError",
     "evalue": "name 'new_data' is not defined",
     "output_type": "error",
     "traceback": [
      "\u001b[1;31m---------------------------------------------------------------------------\u001b[0m",
      "\u001b[1;31mNameError\u001b[0m                                 Traceback (most recent call last)",
      "Cell \u001b[1;32mIn[134], line 1\u001b[0m\n\u001b[1;32m----> 1\u001b[0m new_data(\u001b[38;5;124m\"\u001b[39m\u001b[38;5;124mabhi\u001b[39m\u001b[38;5;124m\"\u001b[39m, \u001b[38;5;241m23\u001b[39m, \u001b[38;5;124m\"\u001b[39m\u001b[38;5;124mktm\u001b[39m\u001b[38;5;124m\"\u001b[39m)\n",
      "\u001b[1;31mNameError\u001b[0m: name 'new_data' is not defined"
     ]
    }
   ],
   "source": [
    "new_data(age"
   ]
  },
  {
   "cell_type": "code",
   "execution_count": 127,
   "id": "f1b396bd-1317-4a89-ba5f-8c48485f5d9f",
   "metadata": {},
   "outputs": [],
   "source": [
    "## Default value example\n",
    "\n",
    "def user_info_default(username, age=18):\n",
    "    print(f\"Username: {username}, Age: {age}\")\n",
    "\n",
    "\n"
   ]
  },
  {
   "cell_type": "code",
   "execution_count": 128,
   "id": "fac992ab-56a6-43e7-bfc7-3120e29d2a73",
   "metadata": {},
   "outputs": [
    {
     "name": "stdout",
     "output_type": "stream",
     "text": [
      "Username: Aarya, Age: 18\n"
     ]
    }
   ],
   "source": [
    "user_info_default(\"Aarya\")     # Uses the default value for 'age'\n"
   ]
  },
  {
   "cell_type": "code",
   "execution_count": null,
   "id": "2488b4c3-2d27-452a-9910-ffb44e6360f7",
   "metadata": {},
   "outputs": [],
   "source": [
    "user_info_default(\"Evana\", 22)   # Overwrites the default value"
   ]
  },
  {
   "cell_type": "markdown",
   "id": "b5f260ba-6ec7-42d7-96f6-27fac25c2c1b",
   "metadata": {},
   "source": [
    "\n",
    "\n",
    "``` \n",
    "other than printing \n",
    "function can return values too. And that is actually major use"
   ]
  },
  {
   "cell_type": "code",
   "execution_count": 140,
   "id": "89985b24-7180-493f-a88c-4cf8f7946299",
   "metadata": {},
   "outputs": [],
   "source": [
    "# In [7]:\n",
    "def add_numbers(a, b):\n",
    "    return a + b\n",
    "\n",
    "\n"
   ]
  },
  {
   "cell_type": "code",
   "execution_count": 141,
   "id": "f82af2f5-6bfa-41d5-8a84-75d96f078c57",
   "metadata": {},
   "outputs": [
    {
     "name": "stdout",
     "output_type": "stream",
     "text": [
      "8\n"
     ]
    }
   ],
   "source": [
    "result = add_numbers(3, 5)\n",
    "print(result)"
   ]
  },
  {
   "cell_type": "code",
   "execution_count": 142,
   "id": "4406a00a-e425-4ebb-8819-485c3224af2e",
   "metadata": {},
   "outputs": [
    {
     "name": "stdout",
     "output_type": "stream",
     "text": [
      "46\n"
     ]
    }
   ],
   "source": [
    "print (add_numbers(31, 15))"
   ]
  },
  {
   "cell_type": "code",
   "execution_count": 143,
   "id": "ae691fe5-7b52-4016-aaa8-8d88c1e6c62d",
   "metadata": {},
   "outputs": [
    {
     "data": {
      "text/plain": [
       "426"
      ]
     },
     "execution_count": 143,
     "metadata": {},
     "output_type": "execute_result"
    }
   ],
   "source": [
    "add_numbers(311, 115)"
   ]
  },
  {
   "cell_type": "markdown",
   "id": "954960d1-f7f0-459d-bea3-9d2ee6aedc67",
   "metadata": {},
   "source": [
    "\n",
    "\n",
    "\n",
    "## Scope of variable "
   ]
  },
  {
   "cell_type": "code",
   "execution_count": 146,
   "id": "1b84779b-7700-4e2a-9b45-8c300bf5c599",
   "metadata": {},
   "outputs": [
    {
     "name": "stdout",
     "output_type": "stream",
     "text": [
      "Inside function, x = 5\n",
      "Outside function, x = 10\n"
     ]
    }
   ],
   "source": [
    "\n",
    "x = 10  # global variable\n",
    "\n",
    "def my_func():\n",
    "    x = 5  # local variable\n",
    "    print(\"Inside function, x =\", x)\n",
    "\n",
    "my_func()\n",
    "print(\"Outside function, x =\", x)\n"
   ]
  },
  {
   "cell_type": "code",
   "execution_count": 151,
   "id": "9d37e7ac-ef3e-40b2-b2e9-b9c073fa4ad8",
   "metadata": {},
   "outputs": [],
   "source": [
    "### Challenge question\n",
    "    # \"\"\"\n",
    "    # write a function multiply which takes two numbers as arguments.\n",
    "\n",
    "    # :param a: First number\n",
    "    # :param b: Second number\n",
    "    # check if a and b are int \n",
    "    # if true then perform multiply\n",
    "    # :return: Product of a and b\n",
    "    # \"\"\"\n",
    "\n",
    "\n",
    "def multify_func(a, b):\n",
    "    return a * b\n",
    "\n"
   ]
  },
  {
   "cell_type": "code",
   "execution_count": 153,
   "id": "656f101c-45ac-4db8-9827-df438646931e",
   "metadata": {},
   "outputs": [
    {
     "name": "stdout",
     "output_type": "stream",
     "text": [
      "600\n"
     ]
    }
   ],
   "source": [
    "print(multify_func(20, 30))"
   ]
  },
  {
   "cell_type": "code",
   "execution_count": null,
   "id": "238c0eac-91da-40ec-b01f-c3fd8a0a782a",
   "metadata": {},
   "outputs": [],
   "source": [
    "# In [9]:\n",
    "def multiply(a, b):\n",
    "    ## check if a and b are int  first...... write your code here\n",
    "    return a * b\n"
   ]
  },
  {
   "cell_type": "code",
   "execution_count": null,
   "id": "031d0ec2-7ebf-43b4-9e07-f76ff73ee3cb",
   "metadata": {},
   "outputs": [],
   "source": [
    "multiply(3,4)"
   ]
  },
  {
   "cell_type": "code",
   "execution_count": null,
   "id": "1906f3f3-5353-4aab-80a9-f7cf377cc238",
   "metadata": {},
   "outputs": [],
   "source": [
    "multiply(\"hi\",\"hello\")"
   ]
  },
  {
   "cell_type": "code",
   "execution_count": null,
   "id": "ed3cc129-1295-42bc-a55d-120e760772b9",
   "metadata": {},
   "outputs": [],
   "source": []
  },
  {
   "cell_type": "code",
   "execution_count": null,
   "id": "2631ebbe-16b6-4181-8554-5122fc23b76c",
   "metadata": {},
   "outputs": [],
   "source": []
  },
  {
   "cell_type": "code",
   "execution_count": null,
   "id": "1ebe97a1-3083-4863-a01b-04e33390d67f",
   "metadata": {},
   "outputs": [],
   "source": []
  },
  {
   "cell_type": "markdown",
   "id": "6dff2655-4f34-408d-b8e6-be59fd7de366",
   "metadata": {},
   "source": [
    "## Modules"
   ]
  },
  {
   "cell_type": "markdown",
   "id": "0bb80e8b-332f-4947-8738-9e11f5861458",
   "metadata": {},
   "source": [
    "```\n",
    "\n",
    "A module in Python is simply a file containing Python definitions and statements. Modules help you organize your code logically.\n",
    "\n",
    "1. Creating a Module\n",
    "Suppose you create a file named mymath.py (in the same directory as your notebook) with the following content:\n",
    "\n",
    "\n",
    "\n",
    "\n",
    "def add(a, b):\n",
    "    return a + b\n",
    "\n",
    "def subtract(a, b):\n",
    "    return a - b\n",
    "\n"
   ]
  },
  {
   "cell_type": "code",
   "execution_count": null,
   "id": "a0dd6b71-4f6f-4d71-b559-147e2e7f0976",
   "metadata": {},
   "outputs": [],
   "source": []
  },
  {
   "cell_type": "code",
   "execution_count": null,
   "id": "c55b6ad9-2c62-48e3-a9a7-39262df01547",
   "metadata": {},
   "outputs": [],
   "source": [
    "## Importing a Module"
   ]
  },
  {
   "cell_type": "code",
   "execution_count": 159,
   "id": "3927131f-0e62-429c-b99d-cf919c92a959",
   "metadata": {},
   "outputs": [
    {
     "ename": "ModuleNotFoundError",
     "evalue": "No module named 'mymath'",
     "output_type": "error",
     "traceback": [
      "\u001b[1;31m---------------------------------------------------------------------------\u001b[0m",
      "\u001b[1;31mModuleNotFoundError\u001b[0m                       Traceback (most recent call last)",
      "Cell \u001b[1;32mIn[159], line 2\u001b[0m\n\u001b[0;32m      1\u001b[0m \u001b[38;5;66;03m# In [10]:\u001b[39;00m\n\u001b[1;32m----> 2\u001b[0m \u001b[38;5;28;01mimport\u001b[39;00m \u001b[38;5;21;01mmymath\u001b[39;00m\n\u001b[0;32m      4\u001b[0m sum_result \u001b[38;5;241m=\u001b[39m mymath\u001b[38;5;241m.\u001b[39madd(\u001b[38;5;241m10\u001b[39m, \u001b[38;5;241m5\u001b[39m)\n\u001b[0;32m      5\u001b[0m \u001b[38;5;28mprint\u001b[39m(\u001b[38;5;124m\"\u001b[39m\u001b[38;5;124mSum =\u001b[39m\u001b[38;5;124m\"\u001b[39m, sum_result)\n",
      "\u001b[1;31mModuleNotFoundError\u001b[0m: No module named 'mymath'"
     ]
    }
   ],
   "source": [
    "# In [10]:\n",
    "import mymath\n",
    "\n",
    "sum_result = mymath.add(10, 5)\n",
    "print(\"Sum =\", sum_result)\n",
    "\n"
   ]
  },
  {
   "cell_type": "code",
   "execution_count": null,
   "id": "9bd1f44d-9ad8-4b33-a650-45ec1299f7b6",
   "metadata": {},
   "outputs": [],
   "source": [
    "diff_result = mymath.subtract(10, 5)\n",
    "print(\"Difference =\", diff_result)"
   ]
  },
  {
   "cell_type": "code",
   "execution_count": null,
   "id": "d9c7c5b9-0d4e-48ca-a42c-9bd03eca8a26",
   "metadata": {},
   "outputs": [],
   "source": [
    "## Importing Specific Functions"
   ]
  },
  {
   "cell_type": "code",
   "execution_count": 161,
   "id": "a64d05d8-da5f-4b27-9f55-b9355b35fb97",
   "metadata": {},
   "outputs": [
    {
     "ename": "ModuleNotFoundError",
     "evalue": "No module named 'mymath'",
     "output_type": "error",
     "traceback": [
      "\u001b[1;31m---------------------------------------------------------------------------\u001b[0m",
      "\u001b[1;31mModuleNotFoundError\u001b[0m                       Traceback (most recent call last)",
      "Cell \u001b[1;32mIn[161], line 1\u001b[0m\n\u001b[1;32m----> 1\u001b[0m \u001b[38;5;28;01mfrom\u001b[39;00m \u001b[38;5;21;01mmymath\u001b[39;00m \u001b[38;5;28;01mimport\u001b[39;00m add\n\u001b[0;32m      3\u001b[0m \u001b[38;5;66;03m# Now we can call add() directly\u001b[39;00m\n\u001b[0;32m      4\u001b[0m total \u001b[38;5;241m=\u001b[39m add(\u001b[38;5;241m2\u001b[39m, \u001b[38;5;241m2\u001b[39m)\n",
      "\u001b[1;31mModuleNotFoundError\u001b[0m: No module named 'mymath'"
     ]
    }
   ],
   "source": [
    "from mymath import add\n",
    "\n",
    "# Now we can call add() directly\n",
    "total = add(2, 2)\n",
    "print(total)\n"
   ]
  },
  {
   "cell_type": "markdown",
   "id": "f9e7f696-30f6-4ce3-aa81-7c05f9f28f30",
   "metadata": {},
   "source": [
    "```\n",
    "A package is a way of structuring multiple modules. \n",
    "A package is essentially a directory containing a special __init__.py file and one or more module files.\n",
    "\n",
    "myproject/\n",
    "    mypackage/\n",
    "        __init__.py\n",
    "        mymath.py\n",
    "        module2.py\n",
    "    main.py\n",
    "\n",
    "    You can import modules or functions from packages like so:\n",
    "\n",
    "from mypackage.module1 import some_function\n"
   ]
  },
  {
   "cell_type": "markdown",
   "id": "130f7a46-efb5-49c5-baf1-ef7d4c068bf5",
   "metadata": {},
   "source": [
    "### Exercise\n",
    "### Exercise\n",
    "\n",
    "```\n",
    "Exercise 1: Simple Calculator Function\n",
    "Define a function calculator() that takes three arguments: num1, num2, and operation.\n",
    "If operation is \"add\", return the sum of num1 and num2. If it’s \"subtract\", return the difference. If it’s \"multiply\", return the product. If it’s \"divide\", return the quotient (be mindful of division by zero).\n",
    "Call this function with different operations and print the results.\n",
    "```\n"
   ]
  },
  {
   "cell_type": "code",
   "execution_count": null,
   "id": "17a5b9f1-3a28-41f7-af7f-40b995228cc8",
   "metadata": {},
   "outputs": [],
   "source": [
    "#your code here for Exercise 1"
   ]
  },
  {
   "cell_type": "code",
   "execution_count": null,
   "id": "30a18603-8e40-475e-b2e5-37bdd9f11542",
   "metadata": {},
   "outputs": [],
   "source": []
  },
  {
   "cell_type": "markdown",
   "id": "3431f6cb-f1c1-4651-952e-e4fd9668d0ca",
   "metadata": {},
   "source": [
    "```\n",
    "Exercise 2: Temperature Converter Module\n",
    "Create a new file named temperature.py (if you’re in a notebook, you can do this in a text editor) that contains two functions:\n",
    "celsius_to_fahrenheit(c)\n",
    "fahrenheit_to_celsius(f)\n",
    "Import your temperature module into your notebook.\n",
    "Write code to test both functions with a few sample values."
   ]
  },
  {
   "cell_type": "code",
   "execution_count": null,
   "id": "a402c382-d5d0-4e6e-a22e-19862df832f9",
   "metadata": {},
   "outputs": [],
   "source": [
    "#your code here for Exercise 2"
   ]
  },
  {
   "cell_type": "code",
   "execution_count": null,
   "id": "3b37570d-25ce-458f-830b-5f107487f0f4",
   "metadata": {},
   "outputs": [],
   "source": []
  },
  {
   "cell_type": "code",
   "execution_count": null,
   "id": "4eae6838-424c-4b4f-9109-d55f11c8d966",
   "metadata": {},
   "outputs": [],
   "source": []
  },
  {
   "cell_type": "code",
   "execution_count": null,
   "id": "907f95a5-3527-4ed4-b57d-9589aa029da1",
   "metadata": {},
   "outputs": [],
   "source": []
  },
  {
   "cell_type": "markdown",
   "id": "a42cfcf3-eaaf-4b55-afad-15a34fa9c465",
   "metadata": {},
   "source": [
    "# Object Oriented Programming (OOP)"
   ]
  },
  {
   "cell_type": "code",
   "execution_count": 263,
   "id": "de0cf30d-ff23-4717-8c5e-fda94aa09078",
   "metadata": {},
   "outputs": [],
   "source": [
    "# In [4]:\n",
    "\n",
    "class Circle:\n",
    "    PI = 3.14159  # Class Attribute\n",
    "    \n",
    "    def __init__(self, radius, PI):    ## Class initiallization\n",
    "        self.rad = radius\n",
    "        self.Pi = PI\n",
    "\n",
    "    def get_diameter(self):         ## Class method\n",
    "        # Create a Circle instance with radius = diameter/2\n",
    "        return self.rad * 2\n",
    "    \n",
    "    def area(self):\n",
    "        return self.Pi * (self.rad ** 2)\n",
    "\n",
    "    def parimeter(self):\n",
    "        return self.Pi * 2 * (self.rad)\n",
    "\n",
    "\n"
   ]
  },
  {
   "cell_type": "code",
   "execution_count": 259,
   "id": "5a755181-7b7e-41db-ade6-afa5d2d2bd1f",
   "metadata": {},
   "outputs": [
    {
     "name": "stdout",
     "output_type": "stream",
     "text": [
      "Circle 1 area: 78.5\n"
     ]
    }
   ],
   "source": [
    "c1 = Circle(5, 3.14) # C1 KO OBJECT CREATE VHO OF CIRCLE CLASS\n",
    "print(\"Circle 1 area:\", c1.area())"
   ]
  },
  {
   "cell_type": "code",
   "execution_count": 260,
   "id": "5fbfa519-e439-45be-8d07-07f6d1f57afc",
   "metadata": {},
   "outputs": [
    {
     "name": "stdout",
     "output_type": "stream",
     "text": [
      "Circle 1 diameter: 10\n"
     ]
    }
   ],
   "source": [
    "print(\"Circle 1 diameter:\", c1.get_diameter())"
   ]
  },
  {
   "cell_type": "code",
   "execution_count": 265,
   "id": "02bc2d7a-d24c-4360-99f3-f699c401ce35",
   "metadata": {},
   "outputs": [
    {
     "ename": "AttributeError",
     "evalue": "'Circle' object has no attribute 'PI'",
     "output_type": "error",
     "traceback": [
      "\u001b[1;31m---------------------------------------------------------------------------\u001b[0m",
      "\u001b[1;31mAttributeError\u001b[0m                            Traceback (most recent call last)",
      "Cell \u001b[1;32mIn[265], line 1\u001b[0m\n\u001b[1;32m----> 1\u001b[0m \u001b[38;5;28mprint\u001b[39m(c1\u001b[38;5;241m.\u001b[39mPI)\n",
      "\u001b[1;31mAttributeError\u001b[0m: 'Circle' object has no attribute 'PI'"
     ]
    }
   ],
   "source": [
    "print(c1.PI)"
   ]
  },
  {
   "cell_type": "code",
   "execution_count": 262,
   "id": "dc65d4da-cc31-499e-9903-c619425fc42d",
   "metadata": {},
   "outputs": [
    {
     "name": "stdout",
     "output_type": "stream",
     "text": [
      "Parimeter of circle: 31.400000000000002\n"
     ]
    }
   ],
   "source": [
    "print(\"Parimeter of circle:\", c1.parimeter())"
   ]
  },
  {
   "cell_type": "code",
   "execution_count": 186,
   "id": "d95999fd-072f-4ea0-a732-090e00702b7b",
   "metadata": {},
   "outputs": [
    {
     "name": "stdout",
     "output_type": "stream",
     "text": [
      "Circle 2 area: 113.09724\n",
      "Circle 2 diameter: 6.28318\n",
      "3.14159\n"
     ]
    }
   ],
   "source": [
    "c2 = Circle(6)  # C2KO OBJECT CREATE VHO OF CIRCLE CLASS\n",
    "print(\"Circle 2 area:\", c2.area())\n",
    "print(\"Circle 2 diameter:\", c2.get_diameter())\n",
    "print(c2.PI)\n",
    "\n"
   ]
  },
  {
   "cell_type": "code",
   "execution_count": null,
   "id": "59681e40-640c-4f15-9508-3167517c7b85",
   "metadata": {},
   "outputs": [],
   "source": []
  },
  {
   "cell_type": "code",
   "execution_count": null,
   "id": "ae9283b8-8164-4697-b724-008dbf38404b",
   "metadata": {},
   "outputs": [],
   "source": []
  },
  {
   "cell_type": "markdown",
   "id": "ad677dd9-7d1b-456e-9095-fdb37fa6f406",
   "metadata": {},
   "source": [
    "## Inheritance\n",
    "\n",
    "```\n",
    "When you create a subclass, it inherits attributes and methods from its parent class."
   ]
  },
  {
   "cell_type": "code",
   "execution_count": 243,
   "id": "c79d6e65-5165-4768-a19f-6080c7e383fd",
   "metadata": {},
   "outputs": [],
   "source": [
    "\n",
    "class Animal:\n",
    "    def __init__(self, name):\n",
    "        self.name = name\n",
    "    \n",
    "    def make_sound(self):\n",
    "        print(\"Some generic animal sound:\", self.name)\n",
    "\n",
    "\n"
   ]
  },
  {
   "cell_type": "code",
   "execution_count": 244,
   "id": "8aa84060-4048-4812-b674-e19b186c70c1",
   "metadata": {},
   "outputs": [
    {
     "name": "stdout",
     "output_type": "stream",
     "text": [
      "Some generic animal sound: Lion\n"
     ]
    }
   ],
   "source": [
    "a = Animal(\"Lion\")\n",
    "a.make_sound()"
   ]
  },
  {
   "cell_type": "code",
   "execution_count": 270,
   "id": "42e55897-da2f-40b5-a5e9-bbc15868b851",
   "metadata": {},
   "outputs": [],
   "source": [
    "class Cat(Animal):\n",
    "    def __init__(self, name, breed):\n",
    "        # Call the parent class constructor\n",
    "        super().__init__(name)\n",
    "        self.breed = breed       # breed is new here\n",
    "    \n",
    "    def make_sound(self):\n",
    "        # Override the parent method\n",
    "        print(\"Meowjsdh!\")\n",
    "\n",
    "# super().__init__(name) calls the parent class’s constructor.\n",
    "# Overriding allows each subclass to provide its own specific functionality."
   ]
  },
  {
   "cell_type": "code",
   "execution_count": 271,
   "id": "02092441-ba43-4ed5-8584-dd550973f032",
   "metadata": {},
   "outputs": [
    {
     "name": "stdout",
     "output_type": "stream",
     "text": [
      "Meowjsdh!\n",
      "Fluffy Persian\n"
     ]
    }
   ],
   "source": [
    "cat1 = Cat(\"Fluffy\", \"Persian\")\n",
    "cat1.make_sound()      # Calls the overridden method in Cat\n",
    "print(cat1.name, cat1.breed)"
   ]
  },
  {
   "cell_type": "code",
   "execution_count": null,
   "id": "3e7805dd-a612-4e4a-8949-8d69024b853c",
   "metadata": {},
   "outputs": [],
   "source": [
    "class Lion(Animal):\n",
    "    def __init__(self, name, breed):\n",
    "        # Call the parent class constructor\n",
    "        super().__init__(name)\n",
    "        self.breed = breed       # breed is new here\n",
    "    \n",
    "    def make_sound(self):\n",
    "        # Override the parent method\n",
    "        print(\"Roar!\")\n",
    "\n",
    "# super().__init__(name) calls the parent class’s constructor.\n",
    "# Overriding allows each subclass to provide its own specific functionality."
   ]
  },
  {
   "cell_type": "code",
   "execution_count": 279,
   "id": "6f613894-9120-4250-8dbe-f543ed4d30b3",
   "metadata": {},
   "outputs": [
    {
     "ename": "NameError",
     "evalue": "name 'Lion' is not defined",
     "output_type": "error",
     "traceback": [
      "\u001b[1;31m---------------------------------------------------------------------------\u001b[0m",
      "\u001b[1;31mNameError\u001b[0m                                 Traceback (most recent call last)",
      "Cell \u001b[1;32mIn[279], line 1\u001b[0m\n\u001b[1;32m----> 1\u001b[0m lion \u001b[38;5;241m=\u001b[39m Lion(\u001b[38;5;124m\"\u001b[39m\u001b[38;5;124mwildy\u001b[39m\u001b[38;5;124m\"\u001b[39m, \u001b[38;5;124m\"\u001b[39m\u001b[38;5;124mwild animal\u001b[39m\u001b[38;5;124m\"\u001b[39m)\n\u001b[0;32m      2\u001b[0m lion\u001b[38;5;241m.\u001b[39mmake_sound()      \u001b[38;5;66;03m# Calls the overridden method in Cat\u001b[39;00m\n\u001b[0;32m      3\u001b[0m \u001b[38;5;28mprint\u001b[39m(lion\u001b[38;5;241m.\u001b[39mname, lion\u001b[38;5;241m.\u001b[39mbreed)\n",
      "\u001b[1;31mNameError\u001b[0m: name 'Lion' is not defined"
     ]
    }
   ],
   "source": [
    "lion = Lion(\"wildy\", \"wild animal\")\n",
    "lion.make_sound()      # Calls the overridden method in Cat\n",
    "print(lion.name, lion.breed)"
   ]
  },
  {
   "cell_type": "markdown",
   "id": "122076bb-88b1-441f-9271-64b0166dcad5",
   "metadata": {},
   "source": [
    "## Polymorphism\n",
    "\n",
    "```\n",
    "Polymorphism refers to the ability of different classes to be treated through a uniform interface."
   ]
  },
  {
   "cell_type": "code",
   "execution_count": 285,
   "id": "26e61ed0-7ba6-4674-a691-d99c81112bc2",
   "metadata": {},
   "outputs": [
    {
     "name": "stdout",
     "output_type": "stream",
     "text": [
      "Woof!\n",
      "Meowjsdh!\n"
     ]
    }
   ],
   "source": [
    "\n",
    "class Dog(Animal):\n",
    "    def make_sound(self):\n",
    "        print(\"Woof!\")\n",
    "\n",
    "#####--------########\n",
    "\n",
    "def animal_sound(a: Animal):\n",
    "    a.make_sound()\n",
    "\n",
    "\n",
    "#####--------########\n",
    "\n",
    "dog = Dog(\"Rex\")\n",
    "cat = Cat(\"Whiskers\", \"Siamese\")\n",
    "# lion = Lion(\"wild animal\")\n",
    "\n",
    "animal_sound(dog)\n",
    "animal_sound(cat)\n",
    "# animal_sound(lion)\n",
    "\n",
    "\n",
    "# for animal in [dog, cat]:\n",
    "#     animal_sound(animal)  # The same function works for both dogs and cats\n"
   ]
  },
  {
   "cell_type": "code",
   "execution_count": null,
   "id": "3c843203-f9ea-4ad2-b90f-281a50ce7afb",
   "metadata": {},
   "outputs": [],
   "source": []
  },
  {
   "cell_type": "code",
   "execution_count": null,
   "id": "49633217-b9a1-44c2-a944-a766dce368e7",
   "metadata": {},
   "outputs": [],
   "source": []
  },
  {
   "cell_type": "code",
   "execution_count": null,
   "id": "fa732b52-b258-48c9-9d8d-6f3d3128c9a6",
   "metadata": {},
   "outputs": [],
   "source": []
  },
  {
   "cell_type": "markdown",
   "id": "dca0d2ca-3aa9-4be1-b0ad-239602e62c55",
   "metadata": {},
   "source": [
    "## Advanced OOP "
   ]
  },
  {
   "cell_type": "code",
   "execution_count": 286,
   "id": "a9135ee1-41f0-4861-b004-90b14dfa19c3",
   "metadata": {},
   "outputs": [],
   "source": [
    "# Example: Using the @property decorator\n",
    "\n",
    "\n",
    "class Student:\n",
    "    def __init__(self, name, grade):\n",
    "        self.name = name\n",
    "        self._grade = grade  # Protected attribute\n",
    "\n",
    "    @property\n",
    "    def grade(self):\n",
    "        return self._grade\n",
    "    \n",
    "    @grade.setter\n",
    "    def grade(self, value):\n",
    "        if 0 <= value <= 100:\n",
    "            self._grade = value\n",
    "        else:\n",
    "            raise ValueError(\"Grade must be between 0 and 100.\")\n",
    "\n",
    "\n"
   ]
  },
  {
   "cell_type": "code",
   "execution_count": 295,
   "id": "45f49799-3ead-44b8-b81a-ed4622a19eba",
   "metadata": {},
   "outputs": [
    {
     "name": "stdout",
     "output_type": "stream",
     "text": [
      "85\n",
      "100\n"
     ]
    }
   ],
   "source": [
    "s = Student(\"John\", 85)\n",
    "print(s.grade)\n",
    "s.grade = 100\n",
    "print(s.grade)"
   ]
  },
  {
   "cell_type": "code",
   "execution_count": null,
   "id": "a065c7a9-e8ea-4bb0-91f4-a81b0faa31e9",
   "metadata": {},
   "outputs": [],
   "source": []
  }
 ],
 "metadata": {
  "kernelspec": {
   "display_name": "Python 3 (ipykernel)",
   "language": "python",
   "name": "python3"
  },
  "language_info": {
   "codemirror_mode": {
    "name": "ipython",
    "version": 3
   },
   "file_extension": ".py",
   "mimetype": "text/x-python",
   "name": "python",
   "nbconvert_exporter": "python",
   "pygments_lexer": "ipython3",
   "version": "3.12.7"
  }
 },
 "nbformat": 4,
 "nbformat_minor": 5
}
