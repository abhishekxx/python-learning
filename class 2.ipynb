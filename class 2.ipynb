{
 "cells": [
  {
   "cell_type": "markdown",
   "id": "487a9a06-f5c2-453e-904c-8eab8f5b9ff7",
   "metadata": {},
   "source": [
    "## String"
   ]
  },
  {
   "cell_type": "code",
   "execution_count": 1,
   "id": "297755b7-7a41-4ebe-83f2-2cb30bdb1d9d",
   "metadata": {},
   "outputs": [
    {
     "name": "stdout",
     "output_type": "stream",
     "text": [
      "Split words: ['so', 'beautiful', 'so', 'eligant', 'looking', 'like', 'a', 'wow']\n"
     ]
    }
   ],
   "source": [
    "# Splitting into a list\n",
    "nice_words=\"so beautiful so eligant looking like a wow\"\n",
    "splitted_nice_words = nice_words.split()\n",
    "print(\"Split words:\", splitted_nice_words)"
   ]
  },
  {
   "cell_type": "code",
   "execution_count": null,
   "id": "326f866c-7e40-4197-8530-a12a9cde3f4a",
   "metadata": {},
   "outputs": [],
   "source": []
  },
  {
   "cell_type": "code",
   "execution_count": null,
   "id": "6578e9e6-b1a4-4c61-9f95-e61465c2f178",
   "metadata": {},
   "outputs": [],
   "source": []
  },
  {
   "cell_type": "code",
   "execution_count": null,
   "id": "3ef5692e-1c90-4506-91d7-3bb681516322",
   "metadata": {},
   "outputs": [],
   "source": []
  },
  {
   "cell_type": "code",
   "execution_count": 16,
   "id": "9571af36-25fd-4a74-abb0-3cb7765c6f28",
   "metadata": {},
   "outputs": [
    {
     "data": {
      "text/plain": [
       "list"
      ]
     },
     "execution_count": 16,
     "metadata": {},
     "output_type": "execute_result"
    }
   ],
   "source": [
    "type(splitted_nice_words)"
   ]
  },
  {
   "cell_type": "code",
   "execution_count": 18,
   "id": "f07e657f-cf1a-4cc2-9ed2-9f31c53d51fe",
   "metadata": {},
   "outputs": [
    {
     "data": {
      "text/plain": [
       "8"
      ]
     },
     "execution_count": 18,
     "metadata": {},
     "output_type": "execute_result"
    }
   ],
   "source": [
    "len(splitted_nice_words)"
   ]
  },
  {
   "cell_type": "markdown",
   "id": "24b2dd2d-1fe3-4ede-ac57-58d9b2496c83",
   "metadata": {},
   "source": [
    "## List"
   ]
  },
  {
   "cell_type": "code",
   "execution_count": 21,
   "id": "916a9a83-5968-4bb8-b4e4-d9a42cbaf5ac",
   "metadata": {},
   "outputs": [],
   "source": [
    "my_list = []\n",
    "fruits = [\"apple\", \"banana\", \"cherry\"]\n",
    "#fruits"
   ]
  },
  {
   "cell_type": "code",
   "execution_count": 23,
   "id": "7bf3f8b1-b331-4f40-b629-41c49d330a36",
   "metadata": {},
   "outputs": [
    {
     "name": "stdout",
     "output_type": "stream",
     "text": [
      "['Kathmandu', 'Lalitpur', 'Bhaktapur', 'Chitwan', 'Dang', 'Surkhet', 'Kaski', 'Sunsari', 'Morang', 'Jhapa']\n"
     ]
    }
   ],
   "source": [
    "districts_of_nepal = [\n",
    "    \"Kathmandu\",\n",
    "    \"Lalitpur\",\n",
    "    \"Bhaktapur\",\n",
    "    \"Chitwan\",\n",
    "    \"Dang\",\n",
    "    \"Surkhet\",\n",
    "    \"Kaski\",\n",
    "    \"Sunsari\",\n",
    "    \"Morang\",\n",
    "    \"Jhapa\"\n",
    "]\n",
    "\n",
    "print(districts_of_nepal)"
   ]
  },
  {
   "cell_type": "markdown",
   "id": "cd0b51c1-cac5-49b8-8f22-22db55cdca3d",
   "metadata": {},
   "source": [
    "## where are the rest of the districts? how to add them?"
   ]
  },
  {
   "cell_type": "markdown",
   "id": "5b766ff9-6faa-4cfe-94a1-08af47aef437",
   "metadata": {},
   "source": [
    "``` \n",
    "learn about append, insert\n",
    "\n"
   ]
  },
  {
   "cell_type": "code",
   "execution_count": 35,
   "id": "c0d95a80-938a-451f-b4df-98aa10e8c3ff",
   "metadata": {},
   "outputs": [
    {
     "data": {
      "text/plain": [
       "['Kathmandu',\n",
       " 'Lalitpur',\n",
       " 'Bhaktapur',\n",
       " 'Chitwan',\n",
       " 'Dang',\n",
       " 'Surkhet',\n",
       " 'Kaski',\n",
       " 'Sunsari',\n",
       " 'Morang',\n",
       " 'Jhapa',\n",
       " 'kavrepalanchowk',\n",
       " 'kavrepalanchowk',\n",
       " 'kavrepalanchowk',\n",
       " 'kavrepalanchowk']"
      ]
     },
     "execution_count": 35,
     "metadata": {},
     "output_type": "execute_result"
    }
   ],
   "source": [
    "districts_of_nepal.append('kavrepalanchowk')\n",
    "districts_of_nepal"
   ]
  },
  {
   "cell_type": "markdown",
   "id": "07b62770-9400-42ed-940f-9447d8b8c9f5",
   "metadata": {},
   "source": [
    "# repeat above code and observe how 'kavrepalanchowk' keeps getting added into the list"
   ]
  },
  {
   "cell_type": "code",
   "execution_count": 42,
   "id": "ca8b70ba-6bf2-4ce6-8590-f4e9fe74136c",
   "metadata": {},
   "outputs": [],
   "source": [
    "sudur_districts = [\"\", \"Doti\", \"Kailali\", \"Kanchanpur\"]"
   ]
  },
  {
   "cell_type": "code",
   "execution_count": 14,
   "id": "aa5326f3-c9f8-4aa2-a415-b37da60cf106",
   "metadata": {},
   "outputs": [
    {
     "ename": "NameError",
     "evalue": "name 'districts_of_nepal' is not defined",
     "output_type": "error",
     "traceback": [
      "\u001b[1;31m---------------------------------------------------------------------------\u001b[0m",
      "\u001b[1;31mNameError\u001b[0m                                 Traceback (most recent call last)",
      "Cell \u001b[1;32mIn[14], line 1\u001b[0m\n\u001b[1;32m----> 1\u001b[0m districts_of_nepal\u001b[38;5;241m.\u001b[39mextend(sudur_districts)\n\u001b[0;32m      2\u001b[0m districts_of_nepal\n",
      "\u001b[1;31mNameError\u001b[0m: name 'districts_of_nepal' is not defined"
     ]
    }
   ],
   "source": [
    "districts_of_nepal.extend(sudur_districts)\n",
    "districts_of_nepal"
   ]
  },
  {
   "cell_type": "markdown",
   "id": "0787d6e7-26bf-48fd-823e-929551ef3315",
   "metadata": {},
   "source": [
    "# repeat above code and observe "
   ]
  },
  {
   "cell_type": "code",
   "execution_count": 19,
   "id": "33dd906d-b6cd-4e1b-a6b6-69dede8930b9",
   "metadata": {},
   "outputs": [
    {
     "ename": "NameError",
     "evalue": "name 'districts_of_nepal' is not defined",
     "output_type": "error",
     "traceback": [
      "\u001b[1;31m---------------------------------------------------------------------------\u001b[0m",
      "\u001b[1;31mNameError\u001b[0m                                 Traceback (most recent call last)",
      "Cell \u001b[1;32mIn[19], line 3\u001b[0m\n\u001b[0;32m      1\u001b[0m \u001b[38;5;66;03m#districts_of_nepal.insert(len(districts_of_nepal),'Bajura')\u001b[39;00m\n\u001b[1;32m----> 3\u001b[0m districts_of_nepal\u001b[38;5;241m.\u001b[39minsert(\u001b[38;5;241m1\u001b[39m,\u001b[38;5;124m'\u001b[39m\u001b[38;5;124mBajhang\u001b[39m\u001b[38;5;124m'\u001b[39m)\n",
      "\u001b[1;31mNameError\u001b[0m: name 'districts_of_nepal' is not defined"
     ]
    }
   ],
   "source": [
    "#districts_of_nepal.insert(len(districts_of_nepal),'Bajura')\n",
    "\n",
    "districts_of_nepal.insert(1,'Bajhang')\n",
    "# districts_of_nepal"
   ]
  },
  {
   "cell_type": "markdown",
   "id": "dc15bbfc-5124-4d4f-91fb-f04831a9b136",
   "metadata": {},
   "source": [
    "## 1. Accessing the List\n",
    "```\n",
    "Indexing\n",
    "Zero-based indexing\n",
    "Positive indices vs. Negative indices\n",
    "Examples of accessing first, last elements"
   ]
  },
  {
   "cell_type": "code",
   "execution_count": 52,
   "id": "acee0972-12ce-4369-aa89-95a55d3be06e",
   "metadata": {},
   "outputs": [
    {
     "data": {
      "text/plain": [
       "['Darchula',\n",
       " 'Lalitpur',\n",
       " 'Bhaktapur',\n",
       " 'Chitwan',\n",
       " 'Bajhang',\n",
       " 'Bajhang',\n",
       " 'Bajhang',\n",
       " 'Dang',\n",
       " 'Surkhet',\n",
       " 'Kaski',\n",
       " 'Sunsari',\n",
       " 'Morang',\n",
       " 'Jhapa',\n",
       " 'kavrepalanchowk',\n",
       " 'kavrepalanchowk',\n",
       " 'kavrepalanchowk',\n",
       " 'kavrepalanchowk',\n",
       " 'Bajura',\n",
       " 'Dadeldhura',\n",
       " 'Doti',\n",
       " 'Kailali',\n",
       " 'Kanchanpur',\n",
       " 'Bajura',\n",
       " 'Bajura']"
      ]
     },
     "execution_count": 52,
     "metadata": {},
     "output_type": "execute_result"
    }
   ],
   "source": [
    "districts_of_nepal[0] = \"Darchula\"\n",
    "districts_of_nepal\n"
   ]
  },
  {
   "cell_type": "code",
   "execution_count": 54,
   "id": "b18e5ba9-54e4-4bcd-86cd-aaa806c30294",
   "metadata": {},
   "outputs": [],
   "source": [
    "# Did you notice the difference between .replace vs [0] ??"
   ]
  },
  {
   "cell_type": "code",
   "execution_count": 68,
   "id": "1f5a3ac9-3479-414a-a460-9ba9dcdd70d3",
   "metadata": {},
   "outputs": [
    {
     "data": {
      "text/plain": [
       "'Morang'"
      ]
     },
     "execution_count": 68,
     "metadata": {},
     "output_type": "execute_result"
    }
   ],
   "source": [
    "districts_of_nepal[11]"
   ]
  },
  {
   "cell_type": "code",
   "execution_count": 64,
   "id": "5dc38916-217e-4c8a-9d8d-dc0bc1d23f88",
   "metadata": {},
   "outputs": [
    {
     "ename": "SyntaxError",
     "evalue": "unterminated string literal (detected at line 1) (1489235232.py, line 1)",
     "output_type": "error",
     "traceback": [
      "\u001b[1;36m  Cell \u001b[1;32mIn[64], line 1\u001b[1;36m\u001b[0m\n\u001b[1;33m    districts_of_nepal[10] = \"bara\u001b[0m\n\u001b[1;37m                             ^\u001b[0m\n\u001b[1;31mSyntaxError\u001b[0m\u001b[1;31m:\u001b[0m unterminated string literal (detected at line 1)\n"
     ]
    }
   ],
   "source": [
    "districts_of_nepal[10] = \"bara"
   ]
  },
  {
   "cell_type": "code",
   "execution_count": 62,
   "id": "f398a366-c776-4251-abcd-82308fa7198a",
   "metadata": {},
   "outputs": [
    {
     "data": {
      "text/plain": [
       "['Darchula',\n",
       " 'Lalitpur',\n",
       " 'Bhaktapur',\n",
       " 'Chitwan',\n",
       " 'Bajhang',\n",
       " 'Bajhang',\n",
       " 'Bajhang',\n",
       " 'Dang',\n",
       " 'Surkhet',\n",
       " 'Kaski',\n",
       " 'Sunsari',\n",
       " 'Morang',\n",
       " 'Jhapa',\n",
       " 'kavrepalanchowk',\n",
       " 'kavrepalanchowk',\n",
       " 'kavrepalanchowk',\n",
       " 'kavrepalanchowk',\n",
       " 'Bajura',\n",
       " 'Dadeldhura',\n",
       " 'Doti',\n",
       " 'Kailali',\n",
       " 'Kanchanpur',\n",
       " 'Bajura',\n",
       " 'Amlekghunj']"
      ]
     },
     "execution_count": 62,
     "metadata": {},
     "output_type": "execute_result"
    }
   ],
   "source": [
    "districts_of_nepal"
   ]
  },
  {
   "cell_type": "code",
   "execution_count": null,
   "id": "4525b77a-1e7d-46c2-9fce-800834221708",
   "metadata": {},
   "outputs": [],
   "source": []
  },
  {
   "cell_type": "markdown",
   "id": "554ceb3f-34af-42d3-b7aa-20df3cab707e",
   "metadata": {},
   "source": [
    "## 2. slicing \n",
    "```\n",
    "list[start:end:step]"
   ]
  },
  {
   "cell_type": "code",
   "execution_count": null,
   "id": "3e64cfb9-0598-4b38-8efa-402dd9dbe2d6",
   "metadata": {},
   "outputs": [],
   "source": [
    "districts_of_nepal[0:10:1]   #practice for different number of step."
   ]
  },
  {
   "cell_type": "code",
   "execution_count": null,
   "id": "47cd5547-619d-4458-9cb3-8a728e0faada",
   "metadata": {},
   "outputs": [],
   "source": [
    "districts_of_nepal[0:len(districts_of_nepal):3]"
   ]
  },
  {
   "cell_type": "markdown",
   "id": "46b9a641-38f9-43b5-8ac1-0a757aebef7c",
   "metadata": {},
   "source": [
    "## 3.remove elements\n",
    "```\n",
    "remove(): Remove by value\n",
    "pop(): Remove by index and returns the removed item\n",
    "del: Remove element(s) by index or slice"
   ]
  },
  {
   "cell_type": "code",
   "execution_count": null,
   "id": "ac268c54-0a56-41dc-8e26-7b0aff3158b2",
   "metadata": {},
   "outputs": [],
   "source": [
    "districts_of_nepal.remove(\"Bajura\")\n",
    "districts_of_nepal"
   ]
  },
  {
   "cell_type": "code",
   "execution_count": null,
   "id": "72b3b908-535d-4a83-bd22-dafa6ce18cef",
   "metadata": {},
   "outputs": [],
   "source": [
    "districts_of_nepal.pop()  # watch the last element\n",
    "districts_of_nepal"
   ]
  },
  {
   "cell_type": "code",
   "execution_count": null,
   "id": "03cd50bc-40e8-4c4d-b5d8-87aa3e2405fe",
   "metadata": {},
   "outputs": [],
   "source": [
    "del districts_of_nepal[0]  # watch the element at 0 index\n",
    "districts_of_nepal"
   ]
  },
  {
   "cell_type": "markdown",
   "id": "cbf3dd0a-f137-4c69-a0b2-adb0f2a8e15f",
   "metadata": {},
   "source": [
    "## why del works different than .pop() and .remove()\n",
    "```\n",
    "# try \n",
    "> del districts_of_nepal\n",
    "# and see the result\n",
    "# also try\n",
    "> districts_of_nepal.clear()"
   ]
  },
  {
   "cell_type": "markdown",
   "id": "a0f8c2cc-8bec-4613-86b1-eac9f0ccec9e",
   "metadata": {},
   "source": [
    "## 4. Common List Operations"
   ]
  },
  {
   "cell_type": "code",
   "execution_count": null,
   "id": "644a4276-1187-4f7c-a4e9-cc8a4e1cb45a",
   "metadata": {},
   "outputs": [],
   "source": [
    "#Length of a List\n",
    "\n",
    "len(districts_of_nepal)\n"
   ]
  },
  {
   "cell_type": "code",
   "execution_count": 27,
   "id": "cea988c1-51e9-40d2-8ff3-9e6f99fa59b1",
   "metadata": {},
   "outputs": [
    {
     "ename": "NameError",
     "evalue": "name 'fruits' is not defined",
     "output_type": "error",
     "traceback": [
      "\u001b[1;31m---------------------------------------------------------------------------\u001b[0m",
      "\u001b[1;31mNameError\u001b[0m                                 Traceback (most recent call last)",
      "Cell \u001b[1;32mIn[27], line 2\u001b[0m\n\u001b[0;32m      1\u001b[0m \u001b[38;5;66;03m#Checking Membership\u001b[39;00m\n\u001b[1;32m----> 2\u001b[0m \u001b[38;5;28mprint\u001b[39m(\u001b[38;5;124m\"\u001b[39m\u001b[38;5;124mapple\u001b[39m\u001b[38;5;124m\"\u001b[39m \u001b[38;5;129;01min\u001b[39;00m fruits)\n\u001b[0;32m      4\u001b[0m \u001b[38;5;28mprint\u001b[39m(\u001b[38;5;124m\"\u001b[39m\u001b[38;5;124mJhapa\u001b[39m\u001b[38;5;124m\"\u001b[39m \u001b[38;5;129;01min\u001b[39;00m districts_of_nepal)\n",
      "\u001b[1;31mNameError\u001b[0m: name 'fruits' is not defined"
     ]
    }
   ],
   "source": [
    "#Checking Membership\n",
    "print(\"apple\" in fruits)\n",
    "\n",
    "print(\"Jhapa\" in districts_of_nepal)"
   ]
  },
  {
   "cell_type": "code",
   "execution_count": null,
   "id": "564344b8-6bc3-4d38-833a-cd5e27c23c9d",
   "metadata": {},
   "outputs": [],
   "source": [
    "#Concatenation and Repetition\n",
    "list1 = [0,2,4] \n",
    "list2 = [0, 3, 6, 9]\n",
    "new_list = list1 + list2\n",
    "new_list\n"
   ]
  },
  {
   "cell_type": "code",
   "execution_count": null,
   "id": "70f5b772-4e4f-4717-b2cc-8e8ee182ebe8",
   "metadata": {},
   "outputs": [],
   "source": [
    "list1 * 2  # does not multiply the elements repeats whole list"
   ]
  },
  {
   "cell_type": "code",
   "execution_count": null,
   "id": "f55848d1-3cef-48d5-a709-5455c0639b99",
   "metadata": {},
   "outputs": [],
   "source": [
    "fruits * 2"
   ]
  },
  {
   "cell_type": "code",
   "execution_count": null,
   "id": "94ec9cab-88a5-4405-877b-9ed76bde5726",
   "metadata": {},
   "outputs": [],
   "source": [
    "#Sorting and Reversing\n",
    "sorted(list) vs. list.sort()\n",
    "list1.reverse()\n",
    "list1\n",
    "\n",
    "#repeat this step and see the result"
   ]
  },
  {
   "cell_type": "code",
   "execution_count": null,
   "id": "d51df25d-2131-423d-a953-d6f3a37d04e5",
   "metadata": {},
   "outputs": [],
   "source": [
    "list2.sort()\n",
    "list2"
   ]
  },
  {
   "cell_type": "code",
   "execution_count": null,
   "id": "a9de6a9a-c108-42e5-8111-1a988463aa1d",
   "metadata": {},
   "outputs": [],
   "source": [
    "type(list2)"
   ]
  },
  {
   "cell_type": "code",
   "execution_count": 25,
   "id": "3bbd56d5-5d3a-4344-8dcc-027444d6bcbf",
   "metadata": {},
   "outputs": [
    {
     "ename": "NameError",
     "evalue": "name 'list2' is not defined",
     "output_type": "error",
     "traceback": [
      "\u001b[1;31m---------------------------------------------------------------------------\u001b[0m",
      "\u001b[1;31mNameError\u001b[0m                                 Traceback (most recent call last)",
      "Cell \u001b[1;32mIn[25], line 1\u001b[0m\n\u001b[1;32m----> 1\u001b[0m list2\u001b[38;5;241m.\u001b[39msort()   \u001b[38;5;66;03m#in line operation does not return \u001b[39;00m\n\u001b[0;32m      2\u001b[0m \u001b[38;5;66;03m## try running\u001b[39;00m\n\u001b[0;32m      3\u001b[0m temp_list\u001b[38;5;241m=\u001b[39m list2\u001b[38;5;241m.\u001b[39msort()\u001b[38;5;241m.\u001b[39msorted(\u001b[38;5;28mlist\u001b[39m)\n",
      "\u001b[1;31mNameError\u001b[0m: name 'list2' is not defined"
     ]
    }
   ],
   "source": [
    "list2.sort()   #in line operation does not return \n",
    "## try running\n",
    "temp_list= list2.sort()sorted(list)\n",
    "temp_list"
   ]
  },
  {
   "cell_type": "code",
   "execution_count": 21,
   "id": "ff39d5b6-bfc9-450e-875f-ec38d2f13e98",
   "metadata": {},
   "outputs": [
    {
     "ename": "NameError",
     "evalue": "name 'list2' is not defined",
     "output_type": "error",
     "traceback": [
      "\u001b[1;31m---------------------------------------------------------------------------\u001b[0m",
      "\u001b[1;31mNameError\u001b[0m                                 Traceback (most recent call last)",
      "Cell \u001b[1;32mIn[21], line 1\u001b[0m\n\u001b[1;32m----> 1\u001b[0m temp_list \u001b[38;5;241m=\u001b[39m list2   \u001b[38;5;66;03m#copy the list\u001b[39;00m\n\u001b[0;32m      2\u001b[0m temp_list\u001b[38;5;241m.\u001b[39mreverse()  \u001b[38;5;66;03m#in line operation\u001b[39;00m\n\u001b[0;32m      3\u001b[0m temp_list\n",
      "\u001b[1;31mNameError\u001b[0m: name 'list2' is not defined"
     ]
    }
   ],
   "source": [
    "temp_list = list2   #copy the list\n",
    "temp_list.reverse()  #in line operation\n",
    "temp_list"
   ]
  },
  {
   "cell_type": "code",
   "execution_count": null,
   "id": "55cc28ba-7afe-4d3d-9b20-e01722104039",
   "metadata": {},
   "outputs": [],
   "source": [
    "list2.sort(reverse = True)\n",
    "list2"
   ]
  },
  {
   "cell_type": "code",
   "execution_count": null,
   "id": "159f98f9-d955-4379-b263-d8ded566c51e",
   "metadata": {},
   "outputs": [],
   "source": [
    "test = sorted(list2)  # sorted is a syntax\n",
    "test"
   ]
  },
  {
   "cell_type": "code",
   "execution_count": null,
   "id": "0b529020-ca3e-4279-8a9a-47771136c3d3",
   "metadata": {},
   "outputs": [],
   "source": []
  },
  {
   "cell_type": "code",
   "execution_count": null,
   "id": "5cee48bf-8d37-4cd3-a667-2a4d3fac9c82",
   "metadata": {},
   "outputs": [],
   "source": []
  },
  {
   "cell_type": "markdown",
   "id": "e7778901-be73-460e-9c3e-6fc8306a9b92",
   "metadata": {},
   "source": [
    "## End of data type section"
   ]
  },
  {
   "cell_type": "markdown",
   "id": "36fc8c7d-ca05-4e9b-8e03-39aa56db02c6",
   "metadata": {},
   "source": [
    "## Input and output\n",
    "``` output stay with print for now\n",
    "    for input lets explore \n",
    "    input()"
   ]
  },
  {
   "cell_type": "code",
   "execution_count": null,
   "id": "fe62dbc3-576f-4f51-a3fe-89bee1b7e526",
   "metadata": {},
   "outputs": [],
   "source": [
    "instruction_for_age = \"please enter your favourite numbert that ypu like\"\n",
    "num_fav = input(instruction_for_age)\n",
    "\n",
    "first_name = \"Plz enter your first name\"\n",
    "first_name = input(first_name)\n",
    "lat_name = \"plz enter your last name\"\n",
    "lat_name = input(lat_name)\n",
    "\n",
    "\n",
    "print(\"you Entered:\", num_fav)\n",
    "print(\"you Entered:\", first_name)\n",
    "print(\"you Entered:\", lat_name)\n"
   ]
  },
  {
   "cell_type": "code",
   "execution_count": 30,
   "id": "76e8fd6a-efbb-4f00-83cc-080274d94102",
   "metadata": {},
   "outputs": [
    {
     "name": "stdout",
     "output_type": "stream",
     "text": [
      "Data type of num: <class 'str'>\n"
     ]
    }
   ],
   "source": [
    "print('Data type of num:', type(num_fav))"
   ]
  },
  {
   "cell_type": "markdown",
   "id": "284e66f0-8604-4989-87b3-2943bd464e05",
   "metadata": {},
   "source": [
    "## remember you can convert str to int using str()"
   ]
  },
  {
   "cell_type": "code",
   "execution_count": null,
   "id": "c75d801e-b454-4b1f-82d9-242e2ce65278",
   "metadata": {},
   "outputs": [],
   "source": []
  },
  {
   "cell_type": "markdown",
   "id": "fbda7aca-d495-4f70-a51d-405a884038f4",
   "metadata": {},
   "source": [
    "# Arithmetic, Logical, and Relational Operators"
   ]
  },
  {
   "cell_type": "code",
   "execution_count": null,
   "id": "f412b913-88ef-4428-b302-2d315a03cf44",
   "metadata": {},
   "outputs": [],
   "source": [
    "# Example 1: Basic arithmetic operations\n",
    "a = 15\n",
    "b = 4\n",
    "\n",
    "print(\"a + b =\", a + b)   # Addition\n",
    "print(\"a - b =\", a - b)   # Subtraction\n",
    "print(\"a * b =\", a * b)   # Multiplication\n",
    "print(\"a / b =\", a / b)   # Float division\n",
    "print(\"a // b =\", a // b) # Floor division\n",
    "print(\"a % b =\", a % b)   # Modulus\n",
    "print(\"a ** b =\", a ** b) # Exponentiation"
   ]
  },
  {
   "cell_type": "code",
   "execution_count": 3,
   "id": "b8b4474b-28dd-4565-b311-0ee3a3e52e1e",
   "metadata": {},
   "outputs": [
    {
     "data": {
      "text/plain": [
       "78.5"
      ]
     },
     "execution_count": 3,
     "metadata": {},
     "output_type": "execute_result"
    }
   ],
   "source": [
    "## Excercise 1\n",
    "#Calculate area of a circle \n",
    "\n",
    "r = 5\n",
    "\n",
    "\n",
    "Area = 3.14 * r**2\n",
    "\n",
    "Area"
   ]
  },
  {
   "attachments": {
    "96412605-e79b-485c-8df6-6d85d504b802.png": {
     "image/png": "[encoded data removed]"
    }
   },
   "cell_type": "markdown",
   "id": "2047261c-afdd-4fc9-9bfe-e5df1cf31bbf",
   "metadata": {},
   "source": [
    "# Relational (Comparison) Operators\n",
    "# Common Comparison Operators\n",
    "![image.png](attachment:96412605-e79b-485c-8df6-6d85d504b802.png)"
   ]
  },
  {
   "cell_type": "code",
   "execution_count": 4,
   "id": "af7f7080-0c99-4d78-92c7-0b357bb4b000",
   "metadata": {},
   "outputs": [
    {
     "name": "stdout",
     "output_type": "stream",
     "text": [
      "x == y: False\n",
      "x != y: True\n",
      "x > y: False\n",
      "x < y: True\n",
      "x >= y: False\n",
      "x <= y: True\n"
     ]
    }
   ],
   "source": [
    "# Example : Basic relational operations\n",
    "x = 10\n",
    "y = 20\n",
    "\n",
    "print(\"x == y:\", x == y)   # False\n",
    "print(\"x != y:\", x != y)   # True\n",
    "print(\"x > y:\", x > y)     # False\n",
    "print(\"x < y:\", x < y)     # True\n",
    "print(\"x >= y:\", x >= y)   # False\n",
    "print(\"x <= y:\", x <= y)   # True\n"
   ]
  },
  {
   "cell_type": "markdown",
   "id": "76a75bbc-ac20-4d01-a9da-0475d09e04bf",
   "metadata": {},
   "source": [
    "# Logical Operators"
   ]
  },
  {
   "attachments": {
    "5d955dfb-1469-4eae-95d3-17279eabe041.png": {
     "image/png": "[encoded data removed]"
    }
   },
   "cell_type": "markdown",
   "id": "2c0d0b6f-7912-4e5f-af3c-421b793000fd",
   "metadata": {},
   "source": [
    "### Common Logical Operators\n",
    "![image.png](attachment:5d955dfb-1469-4eae-95d3-17279eabe041.png)"
   ]
  },
  {
   "cell_type": "code",
   "execution_count": 24,
   "id": "31951ac9-931d-436f-bb31-1fa0217447c6",
   "metadata": {},
   "outputs": [],
   "source": [
    "# Example 1: Logical operators with relational expressions\n",
    "age = 10\n",
    "income = 30000000\n",
    "\n",
    "\n"
   ]
  },
  {
   "cell_type": "code",
   "execution_count": 25,
   "id": "499dc16b-b99e-4812-9f26-dab05adcf1d9",
   "metadata": {},
   "outputs": [
    {
     "name": "stdout",
     "output_type": "stream",
     "text": [
      "Loan Eligibility: False\n"
     ]
    }
   ],
   "source": [
    "# and operator\n",
    "is_eligible_for_loan = (age > 18) and (income > 25000)\n",
    "print(\"Loan Eligibility:\", is_eligible_for_loan)\n",
    "\n"
   ]
  },
  {
   "cell_type": "code",
   "execution_count": 28,
   "id": "3f7b429e-38aa-4e00-ad5f-b9d2a4470f1e",
   "metadata": {},
   "outputs": [
    {
     "name": "stdout",
     "output_type": "stream",
     "text": [
      "Either Age > 30 or Income > 25000: False\n"
     ]
    }
   ],
   "source": [
    "# or operator\n",
    "is_either_condition_met = (age > 30) or (income > 25000) and (age > 18) and (income > 25000)\n",
    "print(\"Either Age > 30 or Income > 25000:\", is_either_condition_met)\n",
    "\n"
   ]
  },
  {
   "cell_type": "code",
   "execution_count": 27,
   "id": "6a36c001-420d-43c6-a32f-e05e00ce07f3",
   "metadata": {},
   "outputs": [
    {
     "name": "stdout",
     "output_type": "stream",
     "text": [
      "Not an Adult: True\n"
     ]
    }
   ],
   "source": [
    "# not operator\n",
    "is_not_adult = not (age >= 18)\n",
    "print(\"Not an Adult:\", is_not_adult)"
   ]
  },
  {
   "cell_type": "markdown",
   "id": "1afa35d0-6703-4fc2-b47e-8772c503694d",
   "metadata": {},
   "source": [
    "### Summary of Key Points:\n",
    "```\n",
    "Arithmetic Operators help you do math in Python.\n",
    "Relational (Comparison) Operators let you compare two values and return True or False.\n",
    "Logical Operators allow you to combine multiple comparison statements."
   ]
  },
  {
   "cell_type": "code",
   "execution_count": null,
   "id": "5f051ea6-5d2d-4b0f-abbc-339c8b686c66",
   "metadata": {},
   "outputs": [],
   "source": []
  },
  {
   "cell_type": "markdown",
   "id": "f9a6eb9c-8b4b-478c-8eed-8bb9f4c5280d",
   "metadata": {},
   "source": [
    "### Where to go next?\n",
    "\n",
    "Explore conditional statements (if, elif, else) in combination with logical operators.\n",
    "Practice with loops (for and while) and incorporate these operators.\n",
    "Look into short-circuit evaluation for logical operators."
   ]
  },
  {
   "cell_type": "code",
   "execution_count": null,
   "id": "af97d1f3-96a4-4965-b532-a538fdb35034",
   "metadata": {},
   "outputs": [],
   "source": []
  },
  {
   "cell_type": "code",
   "execution_count": null,
   "id": "2d929788-17d3-4c02-abd1-5a5131d46b82",
   "metadata": {},
   "outputs": [],
   "source": []
  },
  {
   "cell_type": "markdown",
   "id": "f7a27da0-b4bf-4cc6-b104-a80850e409a3",
   "metadata": {},
   "source": [
    "# Break!!!!!\n",
    "\n",
    "# see you at .... PM\n",
    "______________________________________________________________________________"
   ]
  },
  {
   "cell_type": "markdown",
   "id": "59782206-4929-4d8e-a7bc-4a7cd9ec0d29",
   "metadata": {},
   "source": [
    "# Control Structures : Very Important Section"
   ]
  },
  {
   "cell_type": "markdown",
   "id": "61a268f4-322c-458e-a866-de1e913bd9cb",
   "metadata": {},
   "source": [
    "# **Practice Notebook: Control Structures in Python**\n",
    "\n",
    "Welcome to this practice notebook on **control structures** in Python. Control structures allow you to dictate the flow of your program, making decisions with conditions and repeating actions using loops. By the end of these exercises, you should feel more comfortable with **conditional statements**, **loops**, and the use of **break** and **continue**.\n",
    "\n",
    "---\n",
    "\n",
    "## **Table of Contents**\n",
    "\n",
    "1. [Conditional Statements (`if`, `elif`, `else`)](#conditional)\n",
    "2. [Loops](#loops)\n",
    "    - [For Loop](#for-loop)\n",
    "    - [While Loop](#while-loop)\n",
    "    - [Nested Loops](#nested-loops)\n",
    "3. [Break and Continue](#break-continue)\n",
    "\n",
    "\n",
    "---\n",
    "\n",
    "<a id=\"conditional\"></a>\n",
    "\n",
    "## **1. Conditional Statements**\n",
    "\n",
    "### **1.1 Practice - Basic `if` Statement**\n",
    "\n",
    "```python\n",
    "# EXERCISE 1.1\n",
    "# ------------\n",
    "# Write code that takes an integer input from the user and checks if it is positive.\n",
    "# If it is positive, print \"Number is positive\".\n",
    "\n",
    "number = int(input(\"Enter a number: \"))\n",
    "\n",
    "# Your code here\n",
    "if number > 0:\n",
    "    print(\"Number is positive\")\n"
   ]
  },
  {
   "cell_type": "code",
   "execution_count": 2,
   "id": "46f87fab-976a-49dc-aa6e-10bd105bb06d",
   "metadata": {},
   "outputs": [
    {
     "name": "stdin",
     "output_type": "stream",
     "text": [
      "Enter a number:  1\n"
     ]
    },
    {
     "name": "stdout",
     "output_type": "stream",
     "text": [
      "Number is positive\n"
     ]
    }
   ],
   "source": [
    "# EXERCISE 1.1 (Challenge)\n",
    "# Modify the above code to handle the following:\n",
    "# - If number is positive, print \"Number is positive\"\n",
    "# - If number is zero, print \"Number is zero\"\n",
    "# - Otherwise, print \"Number is negative\"\n",
    "\n",
    "number = int(input(\"Enter a number: \"))\n",
    "\n",
    "# Your code here\n",
    "if number > 0:\n",
    "    print(\"Number is positive\")\n",
    "\n"
   ]
  },
  {
   "cell_type": "code",
   "execution_count": 8,
   "id": "4e1ccc5e-d464-4a94-9adb-79f113e23ec2",
   "metadata": {},
   "outputs": [
    {
     "name": "stdin",
     "output_type": "stream",
     "text": [
      "Enter a number:  01\n"
     ]
    },
    {
     "name": "stdout",
     "output_type": "stream",
     "text": [
      "Number is positive\n"
     ]
    }
   ],
   "source": [
    "number = int(input(\"Enter a number: \"))\n",
    "\n",
    "# check if, elif and else conditions\n",
    "if number > 0:\n",
    "    print(\"Number is positive\")\n",
    "elif number == 0:\n",
    "    print(\"Number is zero\")\n",
    "else:\n",
    "    print(\"Number is negative\")"
   ]
  },
  {
   "cell_type": "code",
   "execution_count": 32,
   "id": "d30a0636-f9c0-47b7-87b6-ff78231f028c",
   "metadata": {},
   "outputs": [
    {
     "name": "stdin",
     "output_type": "stream",
     "text": [
      "Enter your score (0-100):  105\n"
     ]
    },
    {
     "name": "stdout",
     "output_type": "stream",
     "text": [
      "A\n"
     ]
    }
   ],
   "source": [
    "# EXERCISE 1.2\n",
    "# ------------\n",
    "# Write a program that checks a student's score:\n",
    "#   - If the score >= 90, print \"A\"\n",
    "#   - If the score >= 80, print \"B\"\n",
    "#   - If the score >= 70, print \"C\"\n",
    "#   - Else, print \"Needs Improvement\"\n",
    "\n",
    "score = int(input(\"Enter your score (0-100): \"))\n",
    "\n",
    "if score >= 90 or score < 100:\n",
    "    print(\"A\")\n",
    "# elif score >= 80 and score < 90:\n",
    "#     print(\"B\")\n",
    "# elif score >= 70 and score < 80:\n",
    "#     print(\"C\")\n",
    "# elif score >= 60 and score < 70:\n",
    "#     print(\"D\")\n",
    "else:\n",
    "    print(\"Needs Improvement\")"
   ]
  },
  {
   "cell_type": "code",
   "execution_count": 40,
   "id": "a3cbb92d-900e-4604-9204-cb8c8c25d3cb",
   "metadata": {},
   "outputs": [
    {
     "name": "stdout",
     "output_type": "stream",
     "text": [
      "Temperature is moderate or cold.\n"
     ]
    }
   ],
   "source": [
    "# combine if-else and logical operators \n",
    "\n",
    "\n",
    "temperature = 6\n",
    "\n",
    "\n",
    "if temperature > 40:\n",
    "    print(\"It's extremely hot!\")\n",
    "elif temperature > 30 and  temperature <= 40:\n",
    "    print(\"It's a hot day!\")\n",
    "else:\n",
    "    print(\"Temperature is moderate or cold.\")\n"
   ]
  },
  {
   "cell_type": "code",
   "execution_count": 48,
   "id": "63f1054e-3de0-4e35-9e44-38359b4d460f",
   "metadata": {},
   "outputs": [
    {
     "name": "stdin",
     "output_type": "stream",
     "text": [
      "Enter username:  admin\n",
      "Enter password:  pass123\n"
     ]
    },
    {
     "name": "stdout",
     "output_type": "stream",
     "text": [
      "Login failed. Invalid credentials.\n"
     ]
    }
   ],
   "source": [
    "## Password check\n",
    "correct_username = \"admin\"\n",
    "correct_password = \"pass123\"\n",
    "\n",
    "username = input(\"Enter username: \")\n",
    "password = input(\"Enter password: \")\n",
    "\n",
    "if username == correct_username and password == correct_password:\n",
    "    print(\"Login successful!  But not TU wifi ooops \")\n",
    "else:\n",
    "    print(\"Login failed. Invalid credentials.\")"
   ]
  },
  {
   "cell_type": "code",
   "execution_count": 51,
   "id": "03146b57-3737-4a89-a821-772e49141884",
   "metadata": {},
   "outputs": [
    {
     "name": "stdin",
     "output_type": "stream",
     "text": [
      "Enter a number:  0\n"
     ]
    },
    {
     "name": "stdout",
     "output_type": "stream",
     "text": [
      "Number is zero.\n"
     ]
    }
   ],
   "source": [
    "## number analyzer\n",
    "num = float(input(\"Enter a number: \"))\n",
    "\n",
    "if num > 0:\n",
    "    print(\"Number is positive.\")\n",
    "elif num < 0:\n",
    "    print(\"Number is negative.\")\n",
    "else:\n",
    "    print(\"Number is zero.\")\n"
   ]
  },
  {
   "cell_type": "code",
   "execution_count": 54,
   "id": "960e01dc-233b-47aa-a942-3b8e32354e79",
   "metadata": {},
   "outputs": [
    {
     "name": "stdin",
     "output_type": "stream",
     "text": [
      "Enter your age:  17\n",
      "Do you have a valid ID? (yes/no):  yes\n"
     ]
    },
    {
     "name": "stdout",
     "output_type": "stream",
     "text": [
      "You are not eligible to enter.\n"
     ]
    }
   ],
   "source": [
    "# ID check \n",
    "\n",
    "age = int(input(\"Enter your age: \"))\n",
    "id_status = input(\"Do you have a valid ID? (yes/no): \").lower()\n",
    "\n",
    "if age >= 18 and id_status == \"yes\":\n",
    "    print(\"You are eligible to enter.\")\n",
    "else:\n",
    "    print(\"You are not eligible to enter.\")\n"
   ]
  },
  {
   "cell_type": "code",
   "execution_count": 62,
   "id": "d054d908-f966-428e-a755-74c626a0aa33",
   "metadata": {},
   "outputs": [
    {
     "name": "stdin",
     "output_type": "stream",
     "text": [
      "Enter first number:  6\n",
      "Enter second number:  6\n",
      "Choose an operation (add, subtract, multiply, divide):  multiply\n"
     ]
    },
    {
     "name": "stdout",
     "output_type": "stream",
     "text": [
      "Result = 36.0\n"
     ]
    }
   ],
   "source": [
    "# calculator simple one\n",
    "\n",
    "num1 = float(input(\"Enter first number: \"))\n",
    "num2 = float(input(\"Enter second number: \"))\n",
    "operation = input(\"Choose an operation (add, subtract, multiply, divide): \").lower()\n",
    "\n",
    "if operation == \"add\":\n",
    "    print(\"Result =\", num1 + num2)\n",
    "elif operation == \"subtract\":\n",
    "    print(\"Result =\", num1 - num2)\n",
    "elif operation == \"multiply\":\n",
    "    print(\"Result =\", num1 * num2)\n",
    "elif operation == \"divide\":\n",
    "    if num2 != 0:\n",
    "        print(\"Result =\", num1 / num2)\n",
    "    else:\n",
    "        print(\"Cannot divide by zero.\")\n",
    "else:\n",
    "    print(\"Invalid operation.\")\n"
   ]
  },
  {
   "cell_type": "code",
   "execution_count": null,
   "id": "09ffbcbc-5967-4aa3-9e75-c2e6755118a8",
   "metadata": {},
   "outputs": [],
   "source": [
    "\n"
   ]
  },
  {
   "cell_type": "markdown",
   "id": "6dcd80e0-32b9-4141-aa5c-9b6f29926c6c",
   "metadata": {},
   "source": [
    "<a id=\"loops\"></a>\n",
    "# Loop"
   ]
  },
  {
   "cell_type": "markdown",
   "id": "d538d3e7-713f-4baf-a369-abbd03fcc0d5",
   "metadata": {},
   "source": [
    "<a id=\"for-loop\"></a>\n",
    "### for-loop"
   ]
  },
  {
   "cell_type": "code",
   "execution_count": 98,
   "id": "1f6f3cb7-0145-4096-888b-b063334ab897",
   "metadata": {},
   "outputs": [
    {
     "name": "stdout",
     "output_type": "stream",
     "text": [
      "*\n",
      "**\n",
      "***\n",
      "****\n"
     ]
    }
   ],
   "source": [
    "\n",
    "# EXERCISE 2.1\n",
    "# ------------\n",
    "# Write a Python program that prints the numbers 1 to 5 using a for loop.\n",
    "\n",
    "\n",
    "for i in range(1, i-1):\n",
    "    print(\"*\" * i)\n"
   ]
  },
  {
   "cell_type": "code",
   "execution_count": 77,
   "id": "27d42fee-f2d4-4a3a-92db-915b11f4041b",
   "metadata": {},
   "outputs": [
    {
     "name": "stdout",
     "output_type": "stream",
     "text": [
      "apple\n",
      "banana\n",
      "cherry\n"
     ]
    }
   ],
   "source": [
    "fruits = [\"apple\", \"banana\", \"cherry\"]\n",
    "for fruit in fruits:\n",
    "    print(fruit)"
   ]
  },
  {
   "cell_type": "code",
   "execution_count": 79,
   "id": "815724b5-e087-47c8-9ab5-3b3e1c4b5ca8",
   "metadata": {},
   "outputs": [
    {
     "ename": "IndentationError",
     "evalue": "expected an indented block after 'if' statement on line 4 (3201774966.py, line 5)",
     "output_type": "error",
     "traceback": [
      "\u001b[1;36m  Cell \u001b[1;32mIn[79], line 5\u001b[1;36m\u001b[0m\n\u001b[1;33m    print(district)\u001b[0m\n\u001b[1;37m    ^\u001b[0m\n\u001b[1;31mIndentationError\u001b[0m\u001b[1;31m:\u001b[0m expected an indented block after 'if' statement on line 4\n"
     ]
    }
   ],
   "source": [
    "# back to our list of districts\n",
    "\n",
    "for district in districts_of_nepal:\n",
    "    print(district)"
   ]
  },
  {
   "cell_type": "code",
   "execution_count": 90,
   "id": "ef592847-524d-4622-a107-a02f988b0e0a",
   "metadata": {},
   "outputs": [
    {
     "ename": "IndentationError",
     "evalue": "expected an indented block after 'if' statement on line 6 (520001065.py, line 7)",
     "output_type": "error",
     "traceback": [
      "\u001b[1;36m  Cell \u001b[1;32mIn[90], line 7\u001b[1;36m\u001b[0m\n\u001b[1;33m    print(fruit)\u001b[0m\n\u001b[1;37m    ^\u001b[0m\n\u001b[1;31mIndentationError\u001b[0m\u001b[1;31m:\u001b[0m expected an indented block after 'if' statement on line 6\n"
     ]
    }
   ],
   "source": [
    "# EXERCISE 2.2 (Challenge)\n",
    "# ------------------------\n",
    "# Modify the above code to print only the fruits that start with 'b'.\n",
    "\n",
    "for fruit in fruits:\n",
    "    if fruit.startswith(\"g\"):\n",
    "        \n",
    "        print(fruit)\n",
    "    else:\n",
    "        print(\"this is not on the list\")\n",
    "\n"
   ]
  },
  {
   "cell_type": "markdown",
   "id": "7ead2be7-a3fb-494b-a09e-79fe8928c4cc",
   "metadata": {},
   "source": [
    "<a id=\"while-loop\"></a>\n",
    "\n",
    "### 2.3 While Loop"
   ]
  },
  {
   "cell_type": "code",
   "execution_count": 100,
   "id": "884279fa-da6d-40fb-b69a-db9ea60f167c",
   "metadata": {},
   "outputs": [
    {
     "name": "stdout",
     "output_type": "stream",
     "text": [
      "1\n",
      "3\n"
     ]
    }
   ],
   "source": [
    "# EXERCISE 2.3\n",
    "# ------------\n",
    "# Use a while loop to print numbers from 1 to 3.\n",
    "\n",
    "count = 1\n",
    "while count < 5:\n",
    "    print(count)\n",
    "    count = count + 1\n",
    "    # count += 1\n"
   ]
  },
  {
   "cell_type": "markdown",
   "id": "2bbb4ee0-7b3a-40e4-9b5d-9a762d535791",
   "metadata": {},
   "source": [
    "```\n",
    "Challenge: Ask the user to keep entering a password until they enter \"python123\". \n",
    "After they enter the correct password, print \"Access Granted\"."
   ]
  },
  {
   "cell_type": "code",
   "execution_count": 102,
   "id": "1648c61e-efde-4014-8ef3-8f795b0e3ec1",
   "metadata": {},
   "outputs": [
    {
     "name": "stdin",
     "output_type": "stream",
     "text": [
      "Enter username:  sbdk\n",
      "Enter password:  djfskd\n",
      "Enter username:  jhsdbjfbsd;\n",
      "Enter password:  admin\n",
      "Enter username:  python123\n",
      "Enter password:  \n",
      "Enter username:  admin\n",
      "Enter password:  python123\n"
     ]
    },
    {
     "name": "stdout",
     "output_type": "stream",
     "text": [
      "Access Granted\n"
     ]
    }
   ],
   "source": [
    "# EXERCISE 2.3 (Challenge)\n",
    "# ------------------------\n",
    "# Implement a simple password check using a while loop.\n",
    "username = \"\"\n",
    "password = \"\"\n",
    "while username!= \"admin\" and password != \"python123\":\n",
    "    username = input(\"Enter username: \")\n",
    "    password = input(\"Enter password: \")\n",
    "\n",
    "print(\"Access Granted\")\n"
   ]
  },
  {
   "cell_type": "markdown",
   "id": "f4a8ffe3-91aa-4a83-aba9-a85a2d4c44b7",
   "metadata": {},
   "source": [
    "<a id=\"nested-loops\"></a>\n",
    "### 2.4 Nested Loops\n"
   ]
  },
  {
   "cell_type": "code",
   "execution_count": 109,
   "id": "70b224c2-d6dd-4ce4-a678-3c12a907f19f",
   "metadata": {},
   "outputs": [
    {
     "name": "stdout",
     "output_type": "stream",
     "text": [
      "1 2 3 4 \n",
      "1 2 3 4 \n",
      "1 2 3 4 \n"
     ]
    }
   ],
   "source": [
    "# EXERCISE 2.4\n",
    "# ------------\n",
    "# Write a nested for loop that prints a 3x3 matrix of numbers, like:\n",
    "# 1 2 3\n",
    "# 1 2 3\n",
    "# 1 2 3\n",
    "\n",
    "for row in range(3):\n",
    "    for col in range(1, 5):\n",
    "        print(col, end=\" \")\n",
    "    print()\n"
   ]
  },
  {
   "cell_type": "code",
   "execution_count": null,
   "id": "05a41d93-e284-401b-8816-b3fb890a6012",
   "metadata": {},
   "outputs": [],
   "source": [
    "## practice use of end in print output \n",
    "print (\"hello brother\", end=\" not good\")"
   ]
  },
  {
   "cell_type": "markdown",
   "id": "f367f44c-a28b-4a20-bf2e-8cf05e116fcd",
   "metadata": {},
   "source": [
    "<a id=\"break-continue\"></a>\n",
    "## 3. Break and Continue"
   ]
  },
  {
   "cell_type": "code",
   "execution_count": null,
   "id": "523694d6-d667-4b79-8397-969c100f8968",
   "metadata": {},
   "outputs": [],
   "source": [
    "#3.1 Using break"
   ]
  },
  {
   "cell_type": "code",
   "execution_count": 114,
   "id": "eaaa0590-fcff-465f-aebd-a939a2b04a5e",
   "metadata": {},
   "outputs": [
    {
     "name": "stdout",
     "output_type": "stream",
     "text": [
      "1\n",
      "2\n",
      "3\n",
      "4\n"
     ]
    }
   ],
   "source": [
    "\n",
    "# EXERCISE 3.1\n",
    "# ------------\n",
    "# Write a loop to print numbers from 1 to 10.\n",
    "# If the number is 5, break out of the loop.\n",
    "\n",
    "for i in range(1, 11):\n",
    "    if i == 5:\n",
    "        break\n",
    "    print(i)\n",
    "\n",
    "#The loop will stop entirely once it hits i = 5.\n"
   ]
  },
  {
   "cell_type": "code",
   "execution_count": 112,
   "id": "4b892f24-6a48-4ac5-8f6c-8cef308e1b44",
   "metadata": {},
   "outputs": [
    {
     "name": "stdout",
     "output_type": "stream",
     "text": [
      "1\n",
      "2\n",
      "4\n",
      "5\n",
      "6\n",
      "7\n",
      "8\n"
     ]
    }
   ],
   "source": [
    "#3.2 Using continue\n",
    "# EXERCISE 3.2\n",
    "# ------------\n",
    "# Write a loop to print numbers from 1 to 5.\n",
    "# Skip printing the number 3 using continue.\n",
    "\n",
    "for i in range(1, 9):\n",
    "    if i == 3:\n",
    "        continue \n",
    "    print(i)\n",
    "\n",
    "# skips i == 3 print. "
   ]
  },
  {
   "cell_type": "markdown",
   "id": "57cbeaa7-722c-4540-be64-95c2458ce6dd",
   "metadata": {},
   "source": [
    "# Excercise  loop and condition 1\n"
   ]
  },
  {
   "cell_type": "markdown",
   "id": "bc448394-255a-4cfc-8dd4-3f804b7d8337",
   "metadata": {},
   "source": [
    "``` Guess the Number\n",
    "\n",
    "Write a program that picks a random number from 1 to 10 (use random.randint(1, 10)).\n",
    "Prompt the user to guess the number.\n",
    "If the guess is correct, print \"Correct!\" and break.\n",
    "If it’s incorrect, allow the user to guess again until they get it right or a certain number of attempts is reached."
   ]
  },
  {
   "cell_type": "code",
   "execution_count": null,
   "id": "4df7147e-6c9e-428b-b13f-77485299d96d",
   "metadata": {},
   "outputs": [],
   "source": [
    "# Excercise  loop and condition 2"
   ]
  },
  {
   "cell_type": "raw",
   "id": "a642584e-a7fa-4a8d-8253-38226dfb1d5d",
   "metadata": {},
   "source": [
    "```\n",
    "Tirki - panj - pandhra\n",
    "\n",
    "Print numbers from 1 to 15.\n",
    "For multiples of 3, print \"Tirki\" instead of the number.\n",
    "For multiples of 5, print \"Panja\".\n",
    "For multiples of both 3 and 5, print \"pandhra\"."
   ]
  },
  {
   "cell_type": "code",
   "execution_count": null,
   "id": "4e1365c5-06cc-465e-8fee-6d3a95164c9d",
   "metadata": {},
   "outputs": [],
   "source": []
  }
 ],
 "metadata": {
  "kernelspec": {
   "display_name": "Python 3 (ipykernel)",
   "language": "python",
   "name": "python3"
  },
  "language_info": {
   "codemirror_mode": {
    "name": "ipython",
    "version": 3
   },
   "file_extension": ".py",
   "mimetype": "text/x-python",
   "name": "python",
   "nbconvert_exporter": "python",
   "pygments_lexer": "ipython3",
   "version": "3.12.7"
  }
 },
 "nbformat": 4,
 "nbformat_minor": 5
}
