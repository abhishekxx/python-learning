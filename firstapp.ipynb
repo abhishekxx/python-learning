{
 "cells": [
  {
   "cell_type": "code",
   "execution_count": 6,
   "id": "81e8716f-fe91-490d-9629-9dd698adf0a0",
   "metadata": {},
   "outputs": [],
   "source": [
    "\n",
    "class Animal:\n",
    "    def __init__(self, name):\n",
    "        self.name = name\n",
    "    \n",
    "    def make_sound(self):\n",
    "        print(\"Some generic animal sound:\", self.name)\n",
    "\n",
    "\n"
   ]
  },
  {
   "cell_type": "code",
   "execution_count": 7,
   "id": "7b86e062-e240-43ef-9ae4-d3b3afa93244",
   "metadata": {},
   "outputs": [],
   "source": [
    "class Lion(Animal):\n",
    "    def __init__(self, name, breed):\n",
    "        # Call the parent class constructor\n",
    "        super().__init__(name)\n",
    "        self.breed = breed       # breed is new here\n",
    "    \n",
    "    def make_sound(self):\n",
    "        # Override the parent method\n",
    "        print(\"Roar!\")\n",
    "\n",
    "# super().__init__(name) calls the parent class’s constructor.\n",
    "# Overriding allows each subclass to provide its own specific functionality."
   ]
  },
  {
   "cell_type": "code",
   "execution_count": 8,
   "id": "81c6eb3a-4814-45a5-999f-abbdee60a483",
   "metadata": {},
   "outputs": [
    {
     "name": "stdout",
     "output_type": "stream",
     "text": [
      "Roar!\n",
      "wildy wild animal\n"
     ]
    }
   ],
   "source": [
    "lion = Lion(\"wildy\", \"wild animal\")\n",
    "lion.make_sound()      # Calls the overridden method in Cat\n",
    "print(lion.name, lion.breed)"
   ]
  },
  {
   "cell_type": "code",
   "execution_count": 15,
   "id": "50ff2380-a7be-4adb-afdc-f9ae7f2d97d5",
   "metadata": {},
   "outputs": [
    {
     "data": {
      "text/plain": [
       "78.5"
      ]
     },
     "execution_count": 15,
     "metadata": {},
     "output_type": "execute_result"
    }
   ],
   "source": [
    " r = 5\n",
    "pi= 3.14\n",
    "Area = pi * r**2\n",
    "\n",
    "Area"
   ]
  },
  {
   "cell_type": "code",
   "execution_count": 3,
   "id": "090571cc-9d4f-4b0f-b9bb-616f3636fac9",
   "metadata": {},
   "outputs": [
    {
     "name": "stdout",
     "output_type": "stream",
     "text": [
      "code reached w=a\n",
      "code reached w=b\n",
      "code reached w=a\n",
      "code reached w=o\n",
      "code reached w=c\n",
      "code reached w=b\n",
      "code reached w=o\n",
      "{'a': 2, 'b': 2, 'o': 2, 'c': 1}\n"
     ]
    }
   ],
   "source": [
    "\n",
    "word_count = {}\n",
    "word_list = [\"a\", \"b\", \"a\", \"o\", \"c\", \"b\", \"o\" ]\n",
    "\n",
    "\n",
    "for word in word_list:\n",
    "    if word in word_count:\n",
    "        word_count[word] += 1\n",
    "        print(\"code reached w=\" + word)\n",
    "    else:\n",
    "        word_count[word] = 1\n",
    "        print(\"code reached w=\" + word)\n",
    "        # print(\n",
    "\n",
    "print(word_count)"
   ]
  },
  {
   "cell_type": "code",
   "execution_count": null,
   "id": "187fc7cd-4eae-4062-bd46-0e078cf826d7",
   "metadata": {},
   "outputs": [],
   "source": []
  },
  {
   "cell_type": "code",
   "execution_count": null,
   "id": "1244ff87-5850-4fd5-8fff-a5d79b8d106d",
   "metadata": {},
   "outputs": [],
   "source": []
  },
  {
   "cell_type": "code",
   "execution_count": null,
   "id": "9cbac846-0dd5-4225-b658-12dd8f866849",
   "metadata": {},
   "outputs": [],
   "source": []
  },
  {
   "cell_type": "code",
   "execution_count": null,
   "id": "92bf812a-fe4d-4ec7-bfc8-3ae666eccde9",
   "metadata": {},
   "outputs": [],
   "source": []
  }
 ],
 "metadata": {
  "kernelspec": {
   "display_name": "Python 3 (ipykernel)",
   "language": "python",
   "name": "python3"
  },
  "language_info": {
   "codemirror_mode": {
    "name": "ipython",
    "version": 3
   },
   "file_extension": ".py",
   "mimetype": "text/x-python",
   "name": "python",
   "nbconvert_exporter": "python",
   "pygments_lexer": "ipython3",
   "version": "3.12.7"
  }
 },
 "nbformat": 4,
 "nbformat_minor": 5
}
